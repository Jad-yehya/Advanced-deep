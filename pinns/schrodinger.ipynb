{
 "cells": [
  {
   "cell_type": "code",
   "execution_count": 1,
   "metadata": {},
   "outputs": [
    {
     "name": "stdout",
     "output_type": "stream",
     "text": [
      "Device: cuda\n"
     ]
    }
   ],
   "source": [
    "import torch\n",
    "import torch.nn as nn\n",
    "from collections import OrderedDict\n",
    "\n",
    "import numpy as np\n",
    "import matplotlib.pyplot as plt\n",
    "import scipy.io\n",
    "import os\n",
    "from scipy.interpolate import griddata\n",
    "from mpl_toolkits.axes_grid1 import make_axes_locatable\n",
    "from contextlib import contextmanager\n",
    "from pathlib import Path\n",
    "import subprocess\n",
    "from functools import partial\n",
    "\n",
    "\n",
    "# CUDA support\n",
    "if torch.cuda.is_available():\n",
    "    device = torch.device(\"cuda\")\n",
    "else:\n",
    "    device = torch.device(\"cpu\")\n",
    "\n",
    "np.random.seed(1234)\n",
    "\n",
    "print(\"Device:\", device)"
   ]
  },
  {
   "cell_type": "markdown",
   "metadata": {},
   "source": [
    "# We will study Schrödinger's non linear equation in 1D\n",
    "\n",
    "\n",
    "### $$ih_t +\\frac{1}{2}h_{xx} + \\mid h\\mid^2h = 0, \\quad x \\in [-5, 5], \\quad t \\in [0, \\frac{\\pi}{2}]$$\n",
    "\n",
    "with the following boundary conditions:\n",
    "$$h(0, x) = 2 sech(x)$$\n",
    "$$h(t, -5) = h(t, 5)$$\n",
    "$$h_x(t, -5) = h_x(t, 5)$$\n",
    "\n",
    "This is different because we have Complex numbers and not real numbers. $\\mid h\\mid^2h$ is the module of h squared.\n",
    "This will show how to solve complex-valued PDEs and periodic boundary conditions.\n",
    "\n",
    "Let $u = Re(h)$ and $v = Im(h)$, then we can have a neural network prior with 2 outputs, one for $u$ and one for $v$. \n",
    "\n"
   ]
  },
  {
   "cell_type": "markdown",
   "metadata": {},
   "source": [
    "The network will learn to minimize a global mean squared loss composed of the following terms:\n",
    "- The Initial condition loss (at $t=0$)\n",
    "- The Boundary condition loss (at $x=-5,5$)\n",
    "- The PDE loss (at all points in the domain and time)\n",
    "\n",
    "The final loss will then be:\n",
    "$$L = L_{IC} + L_{BC} + L_{f}$$\n",
    "\n",
    "Where:\n",
    "$$L_{IC} = \\frac{1}{N_{IC}}\\sum_{i=1}^{N_{IC}} |h(t=0, x_i) - 2sech(x_i)|^2$$\n",
    "$$L_{BC} = \\frac{1}{N_{BC}}\\sum_{i=1}^{N_{BC}} |h(t, x_i) - h(t, x_{i+1})|^2 + |h_x(t, x_i) - h_x(t, x_{i+1})|^2$$\n",
    "$$L_{f} = \\frac{1}{N_{f}}\\sum_{i=1}^{N_{f}} |ih_t +\\frac{1}{2}h_{xx} + \\mid h\\mid^2h|^2$$\n",
    "\n",
    "Where $N_{IC}$ is the number of initial condition points, $N_{BC}$ is the number of boundary condition points and $N_{f}$ is the number of points in the domain and time.\n"
   ]
  },
  {
   "cell_type": "code",
   "execution_count": 50,
   "metadata": {},
   "outputs": [
    {
     "name": "stdout",
     "output_type": "stream",
     "text": [
      "t = torch.Size([201, 1])\n",
      "x = torch.Size([256, 1])\n",
      "u = (256, 201)\n",
      "v = (256, 201)\n",
      "h = (256, 201)\n"
     ]
    }
   ],
   "source": [
    "data = scipy.io.loadmat(\"NLS.mat\")\n",
    "\n",
    "t = torch.Tensor(data[\"tt\"].flatten()[:, None])\n",
    "x = torch.Tensor(data[\"x\"].flatten()[:, None])\n",
    "Exact = data[\"uu\"]\n",
    "Exact_u = np.real(Exact)\n",
    "Exact_v = np.imag(Exact)\n",
    "Exact_h = np.sqrt(Exact_u**2 + Exact_v**2)\n",
    "\n",
    "print(f\"t = {t.shape}\")\n",
    "print(f\"x = {x.shape}\")\n",
    "print(f\"u = {Exact_u.shape}\")\n",
    "print(f\"v = {Exact_v.shape}\")\n",
    "print(f\"h = {Exact_h.shape}\")"
   ]
  },
  {
   "cell_type": "code",
   "execution_count": 82,
   "metadata": {},
   "outputs": [
    {
     "name": "stderr",
     "output_type": "stream",
     "text": [
      "/tmp/ipykernel_214333/304712596.py:65: UserWarning: To copy construct from a tensor, it is recommended to use sourceTensor.clone().detach() or sourceTensor.clone().detach().requires_grad_(True), rather than torch.tensor(sourceTensor).\n",
      "  xt_f = torch.tensor(xt_f, dtype=torch.float32, device=device)\n"
     ]
    }
   ],
   "source": [
    "# GLOBAL VARIABLES\n",
    "# Domain bounds\n",
    "x_min, x_max = x.min(), x.max()  # -5.0, 5.0\n",
    "t_min, t_max = t.min(), t.max()  # 0.0, pi / 2.0\n",
    "\n",
    "lb = torch.tensor([x_min, t_min])\n",
    "ub = torch.tensor([x_max, t_max])\n",
    "\n",
    "# Number of training points\n",
    "N_ic = 100\n",
    "N_bc = 50\n",
    "N_f = 1000\n",
    "\n",
    "# # We will do the ic and bc together as the training data and f separately\n",
    "# # ic = Initial condition\n",
    "# x_ic = torch.Tensor(N_ic, 1).uniform_(x_min, x_max)\n",
    "# t_ic = torch.zeros(N_ic, 1)\n",
    "# xt_ic = torch.cat((x_ic, t_ic), 1)\n",
    "# # u_ic = 2 * sech(x)\n",
    "# u_ic = 2 * 2 / (torch.exp(x_ic) + torch.exp(-x_ic)) ** 2\n",
    "# v_ic = torch.zeros(N_ic, 1)\n",
    "# uv_ic = torch.cat((u_ic, v_ic), 1)\n",
    "\n",
    "# # bc = Boundary condition\n",
    "# t_bc = torch.Tensor(N_bc, 1).uniform_(t_min, t_max)\n",
    "# x_lb = torch.zeros(N_bc, 1) + x_min\n",
    "# x_ub = torch.zeros(N_bc, 1) + x_max\n",
    "# xt_lb = torch.cat((x_lb, t_bc), 1)\n",
    "# xt_ub = torch.cat((x_ub, t_bc), 1)\n",
    "\n",
    "# # f = PDE\n",
    "# xt_f = lb + (ub - lb) * torch.rand((N_f, 2))\n",
    "# xt_f = torch.cat((xt_ic, xt_lb, xt_ub, xt_f), 0)\n",
    "\n",
    "# # We need xt_ic, uv_ic, xt_lb, xt_ub, xt_f\n",
    "\n",
    "# # Combine the initial, boundary\n",
    "# x_u_train = torch.cat((xt_ic, xt_lb, xt_ub), 0)\n",
    "# t_u_train = torch.cat((t_ic, t_bc, t_bc), 0)\n",
    "\n",
    "x_ic = np.random.uniform(x_min, x_max, (N_ic, 1))\n",
    "t_ic = np.zeros((N_ic, 1))\n",
    "xt_ic = np.hstack([x_ic, t_ic])\n",
    "u_ic = 2 * 2 / (np.exp(x_ic) + np.exp(-x_ic))  # 2 * sech(x)\n",
    "v_ic = np.zeros((N_ic, 1))\n",
    "uv_ic = np.hstack([u_ic, v_ic])\n",
    "\n",
    "# bc = Boundary condition\n",
    "t_bc = np.random.uniform(t_min, t_max, (N_bc, 1))\n",
    "x_lb = np.ones((N_bc, 1)) * np.array([x_min])\n",
    "xt_lb = np.hstack([x_lb, t_bc])\n",
    "\n",
    "x_ub = np.zeros((N_bc, 1)) + np.array([x_max])\n",
    "xt_ub = np.hstack([x_ub, t_bc])\n",
    "\n",
    "# f = PDE\n",
    "xt_f = lb + (ub - lb) * np.random.rand(N_f, 2)\n",
    "# xt_f = np.vstack([xt_ic, xt_lb, xt_ub, xt_f])\n",
    "\n",
    "# Convert to tensor\n",
    "xt_ic = torch.tensor(xt_ic, dtype=torch.float32, device=device)\n",
    "uv_ic = torch.tensor(uv_ic, dtype=torch.float32, device=device)\n",
    "xt_lb = torch.tensor(xt_lb, dtype=torch.float32, device=device)\n",
    "xt_ub = torch.tensor(xt_ub, dtype=torch.float32, device=device)\n",
    "xt_f = torch.tensor(xt_f, dtype=torch.float32, device=device)"
   ]
  },
  {
   "cell_type": "code",
   "execution_count": 83,
   "metadata": {},
   "outputs": [
    {
     "name": "stdout",
     "output_type": "stream",
     "text": [
      "xt_ic = torch.Size([100, 2])\n",
      "uv_ic = torch.Size([100, 2])\n",
      "xt_lb = torch.Size([50, 2])\n",
      "xt_ub = torch.Size([50, 2])\n",
      "xt_f = torch.Size([1000, 2])\n"
     ]
    }
   ],
   "source": [
    "# Print the shapes\n",
    "print(f\"xt_ic = {xt_ic.shape}\")\n",
    "print(f\"uv_ic = {uv_ic.shape}\")\n",
    "print(f\"xt_lb = {xt_lb.shape}\")\n",
    "print(f\"xt_ub = {xt_ub.shape}\")\n",
    "print(f\"xt_f = {xt_f.shape}\")"
   ]
  },
  {
   "cell_type": "code",
   "execution_count": 84,
   "metadata": {},
   "outputs": [
    {
     "data": {
      "image/png": "[encoded data removed]",
      "text/plain": [
       "<Figure size 1200x500 with 2 Axes>"
      ]
     },
     "metadata": {},
     "output_type": "display_data"
    }
   ],
   "source": [
    "fig = plt.figure(figsize=(12, 5))\n",
    "ax = fig.add_subplot(111)\n",
    "h = ax.imshow(\n",
    "    Exact_h,\n",
    "    interpolation=\"nearest\",\n",
    "    cmap=\"YlGnBu\",\n",
    "    extent=[t.min(), t.max(), x.min(), x.max()],\n",
    "    origin=\"lower\",\n",
    "    aspect=\"auto\",\n",
    ")\n",
    "divider = make_axes_locatable(ax)\n",
    "cax = divider.append_axes(\"right\", size=\"5%\", pad=0.05)\n",
    "fig.colorbar(h, cax=cax, orientation=\"vertical\")\n",
    "ax.set_xlabel(\"t\")\n",
    "ax.set_ylabel(\"x\")\n",
    "ax.set_title(\"Exact Dynamics (h)\")\n",
    "plt.show()"
   ]
  },
  {
   "cell_type": "code",
   "execution_count": 85,
   "metadata": {},
   "outputs": [],
   "source": [
    "class DNN(torch.nn.Module):\n",
    "    # À compléter...\n",
    "    def __init__(self, depth=8, input_size=2, hidden_size=20, output_size=1):\n",
    "        \"\"\"\n",
    "        input of size N_u x 2  = N_u x (x,t) dimensions\n",
    "        \"\"\"\n",
    "        super().__init__()\n",
    "        self.depth = depth\n",
    "        self.input_size = input_size\n",
    "        self.hidden_size = hidden_size\n",
    "        self.output_size = output_size\n",
    "        layers = [(\"input\", nn.Linear(input_size, hidden_size))]\n",
    "\n",
    "        layers.append((\"activation input\", nn.Tanh()))\n",
    "        for i in range(depth):\n",
    "            layers.append((\"hidden %d\" % i, nn.Linear(hidden_size, hidden_size)))\n",
    "            layers.append((\"activation %d\" % i, nn.Tanh()))\n",
    "        layers.append((\"output\", nn.Linear(hidden_size, output_size)))\n",
    "\n",
    "        dictLayers = OrderedDict(layers)\n",
    "        self.seq = nn.Sequential(dictLayers)\n",
    "\n",
    "    def forward(self, x, t):\n",
    "        # print(x.shape, t.shape)\n",
    "        X_u_train = torch.cat((x, t), dim=-1)\n",
    "        return self.seq(X_u_train)\n",
    "\n",
    "    @contextmanager\n",
    "    def eval_mode(self):\n",
    "        training = self.training\n",
    "        if training:\n",
    "            self.eval()\n",
    "        yield\n",
    "        if training:\n",
    "            self.train()\n",
    "\n",
    "    def predict(self, x: torch.Tensor, t: torch.Tensor):\n",
    "        with self.eval_mode():\n",
    "            u = self(x, t)\n",
    "            u = u.detach().cpu().numpy()\n",
    "            return u\n",
    "\n",
    "\n",
    "dnn = DNN(input_size=2, hidden_size=50, output_size=2)"
   ]
  },
  {
   "cell_type": "code",
   "execution_count": 86,
   "metadata": {},
   "outputs": [],
   "source": [
    "class PINN_Schrodinger(nn.Module):\n",
    "    def __init__(self, dnn: DNN):\n",
    "        super().__init__()\n",
    "        self.dnn = dnn\n",
    "\n",
    "    def forward(self, x, t):\n",
    "        uv = self.dnn(x, t)\n",
    "        u = uv[:, 0:1]\n",
    "        v = uv[:, 1:2]\n",
    "\n",
    "        return u, v\n",
    "\n",
    "    @contextmanager\n",
    "    def eval_mode(self):\n",
    "        training = self.training\n",
    "        if training:\n",
    "            self.eval()\n",
    "        yield\n",
    "        if training:\n",
    "            self.train()\n",
    "\n",
    "    def predict(self, x: torch.Tensor, t: torch.Tensor):\n",
    "        with self.eval_mode():\n",
    "            uv = self(x, t)\n",
    "            uv = uv.detach().cpu().numpy()\n",
    "            return uv\n",
    "\n",
    "\n",
    "pinn = PINN_Schrodinger(dnn)"
   ]
  },
  {
   "cell_type": "code",
   "execution_count": 97,
   "metadata": {},
   "outputs": [],
   "source": [
    "import torch.nn.functional as F\n",
    "\n",
    "\n",
    "def pinns_loss(\n",
    "    pinn: PINN_Schrodinger,\n",
    "    xt_ic: torch.Tensor,\n",
    "    xt_lb: torch.Tensor,\n",
    "    xt_ub: torch.Tensor,\n",
    "    xt_f: torch.Tensor,\n",
    "    uv_ic: torch.Tensor,\n",
    "):\n",
    "    # ic loss\n",
    "    x_ic, t_ic = xt_ic[:, 0:1], xt_ic[:, 1:2]\n",
    "\n",
    "    u_ic_pred, v_ic_pred = pinn(x_ic, t_ic)\n",
    "    loss_ic = F.mse_loss(u_ic_pred, uv_ic[:, 0:1]) + F.mse_loss(\n",
    "        v_ic_pred, uv_ic[:, 1:2]\n",
    "    )\n",
    "\n",
    "    # bc loss\n",
    "    x_lb, t_lb = xt_lb[:, 0:1], xt_lb[:, 1:2]\n",
    "    x_ub, t_ub = xt_ub[:, 0:1], xt_ub[:, 1:2]\n",
    "\n",
    "    x_lb.requires_grad = True\n",
    "    x_ub.requires_grad = True\n",
    "\n",
    "    u_lb_pred, v_lb_pred = pinn(x_lb, t_lb)\n",
    "    u_ub_pred, v_ub_pred = pinn(x_ub, t_ub)\n",
    "\n",
    "    u_x_ub = torch.autograd.grad(\n",
    "        u_ub_pred, x_ub, torch.ones_like(u_ub_pred), create_graph=True\n",
    "    )[0][:, 0:1]\n",
    "    v_x_ub = torch.autograd.grad(\n",
    "        v_ub_pred, x_ub, torch.ones_like(v_ub_pred), create_graph=True\n",
    "    )[0][:, 0:1]\n",
    "\n",
    "    u_x_lb = torch.autograd.grad(\n",
    "        u_lb_pred, x_lb, torch.ones_like(u_lb_pred), create_graph=True\n",
    "    )[0][:, 0:1]\n",
    "    v_x_lb = torch.autograd.grad(\n",
    "        v_lb_pred, x_lb, torch.ones_like(v_lb_pred), create_graph=True\n",
    "    )[0][:, 0:1]\n",
    "\n",
    "    loss_bc = (\n",
    "        F.mse_loss(u_lb_pred, u_ub_pred)\n",
    "        + F.mse_loss(v_lb_pred, v_ub_pred)\n",
    "        + F.mse_loss(u_x_lb, u_x_ub)\n",
    "        + F.mse_loss(v_x_lb, v_x_ub)\n",
    "    )\n",
    "\n",
    "    # f loss\n",
    "    x, t = xt_f[:, 0:1], xt_f[:, 1:2]\n",
    "\n",
    "    x.requires_grad = True\n",
    "    t.requires_grad = True\n",
    "\n",
    "    u, v = pinn(x, t)\n",
    "\n",
    "    u_t = torch.autograd.grad(\n",
    "        u, t, torch.ones_like(u), create_graph=True, retain_graph=True\n",
    "    )[0]\n",
    "    v_t = torch.autograd.grad(\n",
    "        v, t, torch.ones_like(v), create_graph=True, retain_graph=True\n",
    "    )[0]\n",
    "\n",
    "    u_x = torch.autograd.grad(\n",
    "        u, x, torch.ones_like(u), create_graph=True, retain_graph=True\n",
    "    )[0]\n",
    "    v_x = torch.autograd.grad(\n",
    "        v, x, torch.ones_like(v), create_graph=True, retain_graph=True\n",
    "    )[0]\n",
    "\n",
    "    u_xx = torch.autograd.grad(\n",
    "        u_x, x, torch.ones_like(u_x), create_graph=True, retain_graph=True\n",
    "    )[0]\n",
    "    v_xx = torch.autograd.grad(\n",
    "        v_x, x, torch.ones_like(v_x), create_graph=True, retain_graph=True\n",
    "    )[0]\n",
    "\n",
    "    f_u = v_t - 0.5 * u_xx - (u**2 + v**2) * u\n",
    "    f_v = u_t + 0.5 * v_xx + (u**2 + v**2) * v\n",
    "    f_target = torch.zeros_like(f_u)\n",
    "\n",
    "    loss_f = F.mse_loss(f_u, f_target) + F.mse_loss(f_v, f_target)\n",
    "\n",
    "    loss = loss_ic + loss_bc + loss_f\n",
    "\n",
    "    return loss, loss_ic, loss_bc, loss_f"
   ]
  },
  {
   "cell_type": "code",
   "execution_count": 98,
   "metadata": {},
   "outputs": [
    {
     "name": "stderr",
     "output_type": "stream",
     "text": [
      "  0%|          | 0/70 [00:00<?, ?it/s]"
     ]
    },
    {
     "name": "stderr",
     "output_type": "stream",
     "text": [
      "loss: 0.642034113407135:   0%|          | 0/70 [00:00<?, ?it/s] "
     ]
    },
    {
     "name": "stdout",
     "output_type": "stream",
     "text": [
      "torch.Size([100, 1]) torch.Size([100, 1])\n",
      "torch.Size([50, 1]) torch.Size([50, 1])\n",
      "torch.Size([50, 1]) torch.Size([50, 1])\n",
      "torch.Size([1000, 1]) torch.Size([1000, 1])\n",
      "torch.Size([100, 1]) torch.Size([100, 1])\n",
      "torch.Size([50, 1]) torch.Size([50, 1])\n",
      "torch.Size([50, 1]) torch.Size([50, 1])\n",
      "torch.Size([1000, 1]) torch.Size([1000, 1])\n",
      "torch.Size([100, 1]) torch.Size([100, 1])\n",
      "torch.Size([50, 1]) torch.Size([50, 1])\n",
      "torch.Size([50, 1]) torch.Size([50, 1])\n",
      "torch.Size([1000, 1]) torch.Size([1000, 1])\n"
     ]
    },
    {
     "name": "stderr",
     "output_type": "stream",
     "text": [
      "loss: 0.5996946692466736:   0%|          | 0/70 [00:00<?, ?it/s]"
     ]
    },
    {
     "name": "stdout",
     "output_type": "stream",
     "text": [
      "torch.Size([100, 1]) torch.Size([100, 1])\n",
      "torch.Size([50, 1]) torch.Size([50, 1])\n",
      "torch.Size([50, 1]) torch.Size([50, 1])\n",
      "torch.Size([1000, 1]) torch.Size([1000, 1])\n",
      "torch.Size([100, 1]) torch.Size([100, 1])\n",
      "torch.Size([50, 1]) torch.Size([50, 1])\n",
      "torch.Size([50, 1]) torch.Size([50, 1])\n",
      "torch.Size([1000, 1]) torch.Size([1000, 1])\n",
      "torch.Size([100, 1]) torch.Size([100, 1])\n",
      "torch.Size([50, 1]) torch.Size([50, 1])\n",
      "torch.Size([50, 1]) torch.Size([50, 1])\n",
      "torch.Size([1000, 1]) torch.Size([1000, 1])\n",
      "torch.Size([100, 1]) torch.Size([100, 1])\n",
      "torch.Size([50, 1]) torch.Size([50, 1])\n",
      "torch.Size([50, 1]) torch.Size([50, 1])\n",
      "torch.Size([1000, 1]) torch.Size([1000, 1])\n",
      "torch.Size([100, 1]) torch.Size([100, 1])\n",
      "torch.Size([50, 1]) torch.Size([50, 1])\n",
      "torch.Size([50, 1]) torch.Size([50, 1])\n",
      "torch.Size([1000, 1]) torch.Size([1000, 1])\n",
      "torch.Size([100, 1]) torch.Size([100, 1])\n",
      "torch.Size([50, 1]) torch.Size([50, 1])\n",
      "torch.Size([50, 1]) torch.Size([50, 1])\n",
      "torch.Size([1000, 1]) torch.Size([1000, 1])\n",
      "torch.Size([100, 1]) torch.Size([100, 1])\n",
      "torch.Size([50, 1]) torch.Size([50, 1])\n",
      "torch.Size([50, 1]) torch.Size([50, 1])\n",
      "torch.Size([1000, 1]) torch.Size([1000, 1])\n"
     ]
    },
    {
     "name": "stderr",
     "output_type": "stream",
     "text": [
      "loss: 0.6258749961853027:   0%|          | 0/70 [00:00<?, ?it/s]"
     ]
    },
    {
     "name": "stdout",
     "output_type": "stream",
     "text": [
      "torch.Size([100, 1]) torch.Size([100, 1])\n",
      "torch.Size([50, 1]) torch.Size([50, 1])\n",
      "torch.Size([50, 1]) torch.Size([50, 1])\n",
      "torch.Size([1000, 1]) torch.Size([1000, 1])\n",
      "torch.Size([100, 1]) torch.Size([100, 1])\n",
      "torch.Size([50, 1]) torch.Size([50, 1])\n",
      "torch.Size([50, 1]) torch.Size([50, 1])\n",
      "torch.Size([1000, 1]) torch.Size([1000, 1])\n",
      "torch.Size([100, 1]) torch.Size([100, 1])\n",
      "torch.Size([50, 1]) torch.Size([50, 1])\n",
      "torch.Size([50, 1]) torch.Size([50, 1])\n",
      "torch.Size([1000, 1]) torch.Size([1000, 1])\n",
      "torch.Size([100, 1]) torch.Size([100, 1])\n",
      "torch.Size([50, 1]) torch.Size([50, 1])\n",
      "torch.Size([50, 1]) torch.Size([50, 1])\n",
      "torch.Size([1000, 1]) torch.Size([1000, 1])\n",
      "torch.Size([100, 1]) torch.Size([100, 1])\n",
      "torch.Size([50, 1]) torch.Size([50, 1])\n",
      "torch.Size([50, 1]) torch.Size([50, 1])\n",
      "torch.Size([1000, 1]) torch.Size([1000, 1])\n",
      "torch.Size([100, 1]) torch.Size([100, 1])\n",
      "torch.Size([50, 1]) torch.Size([50, 1])\n",
      "torch.Size([50, 1]) torch.Size([50, 1])\n",
      "torch.Size([1000, 1]) torch.Size([1000, 1])\n",
      "torch.Size([100, 1]) torch.Size([100, 1])\n",
      "torch.Size([50, 1]) torch.Size([50, 1])\n",
      "torch.Size([50, 1]) torch.Size([50, 1])\n",
      "torch.Size([1000, 1]) torch.Size([1000, 1])\n"
     ]
    },
    {
     "name": "stderr",
     "output_type": "stream",
     "text": [
      "loss: 0.48099425435066223:   0%|          | 0/70 [00:00<?, ?it/s]"
     ]
    },
    {
     "name": "stdout",
     "output_type": "stream",
     "text": [
      "torch.Size([100, 1]) torch.Size([100, 1])\n",
      "torch.Size([50, 1]) torch.Size([50, 1])\n",
      "torch.Size([50, 1]) torch.Size([50, 1])\n",
      "torch.Size([1000, 1]) torch.Size([1000, 1])\n",
      "torch.Size([100, 1]) torch.Size([100, 1])\n",
      "torch.Size([50, 1]) torch.Size([50, 1])\n",
      "torch.Size([50, 1]) torch.Size([50, 1])\n",
      "torch.Size([1000, 1]) torch.Size([1000, 1])\n",
      "torch.Size([100, 1]) torch.Size([100, 1])\n",
      "torch.Size([50, 1]) torch.Size([50, 1])\n",
      "torch.Size([50, 1]) torch.Size([50, 1])\n",
      "torch.Size([1000, 1]) torch.Size([1000, 1])\n",
      "torch.Size([100, 1]) torch.Size([100, 1])\n",
      "torch.Size([50, 1]) torch.Size([50, 1])\n",
      "torch.Size([50, 1]) torch.Size([50, 1])\n",
      "torch.Size([1000, 1]) torch.Size([1000, 1])\n",
      "torch.Size([100, 1]) torch.Size([100, 1])\n",
      "torch.Size([50, 1]) torch.Size([50, 1])\n",
      "torch.Size([50, 1]) torch.Size([50, 1])\n",
      "torch.Size([1000, 1]) torch.Size([1000, 1])\n",
      "torch.Size([100, 1]) torch.Size([100, 1])\n",
      "torch.Size([50, 1]) torch.Size([50, 1])\n",
      "torch.Size([50, 1]) torch.Size([50, 1])\n",
      "torch.Size([1000, 1]) torch.Size([1000, 1])\n",
      "torch.Size([100, 1]) torch.Size([100, 1])\n",
      "torch.Size([50, 1]) torch.Size([50, 1])\n",
      "torch.Size([50, 1]) torch.Size([50, 1])\n",
      "torch.Size([1000, 1]) torch.Size([1000, 1])\n"
     ]
    },
    {
     "name": "stderr",
     "output_type": "stream",
     "text": [
      "loss: 0.33570602536201477:   0%|          | 0/70 [00:01<?, ?it/s]"
     ]
    },
    {
     "name": "stdout",
     "output_type": "stream",
     "text": [
      "torch.Size([100, 1]) torch.Size([100, 1])\n",
      "torch.Size([50, 1]) torch.Size([50, 1])\n",
      "torch.Size([50, 1]) torch.Size([50, 1])\n",
      "torch.Size([1000, 1]) torch.Size([1000, 1])\n",
      "torch.Size([100, 1]) torch.Size([100, 1])\n",
      "torch.Size([50, 1]) torch.Size([50, 1])\n",
      "torch.Size([50, 1]) torch.Size([50, 1])\n",
      "torch.Size([1000, 1]) torch.Size([1000, 1])\n",
      "torch.Size([100, 1]) torch.Size([100, 1])\n",
      "torch.Size([50, 1]) torch.Size([50, 1])\n",
      "torch.Size([50, 1]) torch.Size([50, 1])\n",
      "torch.Size([1000, 1]) torch.Size([1000, 1])\n",
      "torch.Size([100, 1]) torch.Size([100, 1])\n",
      "torch.Size([50, 1]) torch.Size([50, 1])\n",
      "torch.Size([50, 1]) torch.Size([50, 1])\n",
      "torch.Size([1000, 1]) torch.Size([1000, 1])\n",
      "torch.Size([100, 1]) torch.Size([100, 1])\n",
      "torch.Size([50, 1]) torch.Size([50, 1])\n",
      "torch.Size([50, 1]) torch.Size([50, 1])\n",
      "torch.Size([1000, 1]) torch.Size([1000, 1])\n",
      "torch.Size([100, 1]) torch.Size([100, 1])\n",
      "torch.Size([50, 1]) torch.Size([50, 1])\n",
      "torch.Size([50, 1]) torch.Size([50, 1])\n",
      "torch.Size([1000, 1]) torch.Size([1000, 1])\n"
     ]
    },
    {
     "name": "stderr",
     "output_type": "stream",
     "text": [
      "loss: 0.28974103927612305:   0%|          | 0/70 [00:01<?, ?it/s]"
     ]
    },
    {
     "name": "stdout",
     "output_type": "stream",
     "text": [
      "torch.Size([100, 1]) torch.Size([100, 1])\n",
      "torch.Size([50, 1]) torch.Size([50, 1])\n",
      "torch.Size([50, 1]) torch.Size([50, 1])\n",
      "torch.Size([1000, 1]) torch.Size([1000, 1])\n",
      "torch.Size([100, 1]) torch.Size([100, 1])\n",
      "torch.Size([50, 1]) torch.Size([50, 1])\n",
      "torch.Size([50, 1]) torch.Size([50, 1])\n",
      "torch.Size([1000, 1]) torch.Size([1000, 1])\n",
      "torch.Size([100, 1]) torch.Size([100, 1])\n",
      "torch.Size([50, 1]) torch.Size([50, 1])\n",
      "torch.Size([50, 1]) torch.Size([50, 1])\n",
      "torch.Size([1000, 1]) torch.Size([1000, 1])\n",
      "torch.Size([100, 1]) torch.Size([100, 1])\n",
      "torch.Size([50, 1]) torch.Size([50, 1])\n",
      "torch.Size([50, 1]) torch.Size([50, 1])\n",
      "torch.Size([1000, 1]) torch.Size([1000, 1])\n",
      "torch.Size([100, 1]) torch.Size([100, 1])\n",
      "torch.Size([50, 1]) torch.Size([50, 1])\n",
      "torch.Size([50, 1]) torch.Size([50, 1])\n",
      "torch.Size([1000, 1]) torch.Size([1000, 1])\n",
      "torch.Size([100, 1]) torch.Size([100, 1])\n",
      "torch.Size([50, 1]) torch.Size([50, 1])\n",
      "torch.Size([50, 1]) torch.Size([50, 1])\n",
      "torch.Size([1000, 1]) torch.Size([1000, 1])\n"
     ]
    },
    {
     "name": "stderr",
     "output_type": "stream",
     "text": [
      "loss: 0.25568270683288574:   0%|          | 0/70 [00:01<?, ?it/s]"
     ]
    },
    {
     "name": "stdout",
     "output_type": "stream",
     "text": [
      "torch.Size([100, 1]) torch.Size([100, 1])\n",
      "torch.Size([50, 1]) torch.Size([50, 1])\n",
      "torch.Size([50, 1]) torch.Size([50, 1])\n",
      "torch.Size([1000, 1]) torch.Size([1000, 1])\n",
      "torch.Size([100, 1]) torch.Size([100, 1])\n",
      "torch.Size([50, 1]) torch.Size([50, 1])\n",
      "torch.Size([50, 1]) torch.Size([50, 1])\n",
      "torch.Size([1000, 1]) torch.Size([1000, 1])\n",
      "torch.Size([100, 1]) torch.Size([100, 1])\n",
      "torch.Size([50, 1]) torch.Size([50, 1])\n",
      "torch.Size([50, 1]) torch.Size([50, 1])\n",
      "torch.Size([1000, 1]) torch.Size([1000, 1])\n",
      "torch.Size([100, 1]) torch.Size([100, 1])\n",
      "torch.Size([50, 1]) torch.Size([50, 1])\n",
      "torch.Size([50, 1]) torch.Size([50, 1])\n",
      "torch.Size([1000, 1]) torch.Size([1000, 1])\n",
      "torch.Size([100, 1]) torch.Size([100, 1])\n",
      "torch.Size([50, 1]) torch.Size([50, 1])\n",
      "torch.Size([50, 1]) torch.Size([50, 1])\n",
      "torch.Size([1000, 1]) torch.Size([1000, 1])\n",
      "torch.Size([100, 1]) torch.Size([100, 1])\n",
      "torch.Size([50, 1]) torch.Size([50, 1])\n",
      "torch.Size([50, 1]) torch.Size([50, 1])\n",
      "torch.Size([1000, 1]) torch.Size([1000, 1])\n"
     ]
    },
    {
     "name": "stderr",
     "output_type": "stream",
     "text": [
      "loss: 0.2369036078453064:   0%|          | 0/70 [00:01<?, ?it/s] "
     ]
    },
    {
     "name": "stdout",
     "output_type": "stream",
     "text": [
      "torch.Size([100, 1]) torch.Size([100, 1])\n",
      "torch.Size([50, 1]) torch.Size([50, 1])\n",
      "torch.Size([50, 1]) torch.Size([50, 1])\n",
      "torch.Size([1000, 1]) torch.Size([1000, 1])\n",
      "torch.Size([100, 1]) torch.Size([100, 1])\n",
      "torch.Size([50, 1]) torch.Size([50, 1])\n",
      "torch.Size([50, 1]) torch.Size([50, 1])\n",
      "torch.Size([1000, 1]) torch.Size([1000, 1])\n",
      "torch.Size([100, 1]) torch.Size([100, 1])\n",
      "torch.Size([50, 1]) torch.Size([50, 1])\n",
      "torch.Size([50, 1]) torch.Size([50, 1])\n",
      "torch.Size([1000, 1]) torch.Size([1000, 1])\n",
      "torch.Size([100, 1]) torch.Size([100, 1])\n",
      "torch.Size([50, 1]) torch.Size([50, 1])\n",
      "torch.Size([50, 1]) torch.Size([50, 1])\n",
      "torch.Size([1000, 1]) torch.Size([1000, 1])\n",
      "torch.Size([100, 1]) torch.Size([100, 1])\n",
      "torch.Size([50, 1]) torch.Size([50, 1])\n",
      "torch.Size([50, 1]) torch.Size([50, 1])\n",
      "torch.Size([1000, 1]) torch.Size([1000, 1])\n"
     ]
    },
    {
     "name": "stderr",
     "output_type": "stream",
     "text": [
      "loss: 0.22168421745300293:   0%|          | 0/70 [00:01<?, ?it/s]"
     ]
    },
    {
     "name": "stdout",
     "output_type": "stream",
     "text": [
      "torch.Size([100, 1]) torch.Size([100, 1])\n",
      "torch.Size([50, 1]) torch.Size([50, 1])\n",
      "torch.Size([50, 1]) torch.Size([50, 1])\n",
      "torch.Size([1000, 1]) torch.Size([1000, 1])\n",
      "torch.Size([100, 1]) torch.Size([100, 1])\n",
      "torch.Size([50, 1]) torch.Size([50, 1])\n",
      "torch.Size([50, 1]) torch.Size([50, 1])\n",
      "torch.Size([1000, 1]) torch.Size([1000, 1])\n",
      "torch.Size([100, 1]) torch.Size([100, 1])\n",
      "torch.Size([50, 1]) torch.Size([50, 1])\n",
      "torch.Size([50, 1]) torch.Size([50, 1])\n",
      "torch.Size([1000, 1]) torch.Size([1000, 1])\n",
      "torch.Size([100, 1]) torch.Size([100, 1])\n",
      "torch.Size([50, 1]) torch.Size([50, 1])\n",
      "torch.Size([50, 1]) torch.Size([50, 1])\n",
      "torch.Size([1000, 1]) torch.Size([1000, 1])\n",
      "torch.Size([100, 1]) torch.Size([100, 1])\n",
      "torch.Size([50, 1]) torch.Size([50, 1])\n",
      "torch.Size([50, 1]) torch.Size([50, 1])\n",
      "torch.Size([1000, 1]) torch.Size([1000, 1])\n"
     ]
    },
    {
     "name": "stderr",
     "output_type": "stream",
     "text": [
      "loss: 0.20753952860832214:   0%|          | 0/70 [00:02<?, ?it/s]"
     ]
    },
    {
     "name": "stdout",
     "output_type": "stream",
     "text": [
      "torch.Size([100, 1]) torch.Size([100, 1])\n",
      "torch.Size([50, 1]) torch.Size([50, 1])\n",
      "torch.Size([50, 1]) torch.Size([50, 1])\n",
      "torch.Size([1000, 1]) torch.Size([1000, 1])\n",
      "torch.Size([100, 1]) torch.Size([100, 1])\n",
      "torch.Size([50, 1]) torch.Size([50, 1])\n",
      "torch.Size([50, 1]) torch.Size([50, 1])\n",
      "torch.Size([1000, 1]) torch.Size([1000, 1])\n",
      "torch.Size([100, 1]) torch.Size([100, 1])\n",
      "torch.Size([50, 1]) torch.Size([50, 1])\n",
      "torch.Size([50, 1]) torch.Size([50, 1])\n",
      "torch.Size([1000, 1]) torch.Size([1000, 1])\n",
      "torch.Size([100, 1]) torch.Size([100, 1])\n",
      "torch.Size([50, 1]) torch.Size([50, 1])\n",
      "torch.Size([50, 1]) torch.Size([50, 1])\n",
      "torch.Size([1000, 1]) torch.Size([1000, 1])\n",
      "torch.Size([100, 1]) torch.Size([100, 1])\n",
      "torch.Size([50, 1]) torch.Size([50, 1])\n",
      "torch.Size([50, 1]) torch.Size([50, 1])\n",
      "torch.Size([1000, 1]) torch.Size([1000, 1])\n"
     ]
    },
    {
     "name": "stderr",
     "output_type": "stream",
     "text": [
      "loss: 0.20002509653568268:   0%|          | 0/70 [00:02<?, ?it/s]"
     ]
    },
    {
     "name": "stdout",
     "output_type": "stream",
     "text": [
      "torch.Size([100, 1]) torch.Size([100, 1])\n",
      "torch.Size([50, 1]) torch.Size([50, 1])\n",
      "torch.Size([50, 1]) torch.Size([50, 1])\n",
      "torch.Size([1000, 1]) torch.Size([1000, 1])\n",
      "torch.Size([100, 1]) torch.Size([100, 1])\n",
      "torch.Size([50, 1]) torch.Size([50, 1])\n",
      "torch.Size([50, 1]) torch.Size([50, 1])\n",
      "torch.Size([1000, 1]) torch.Size([1000, 1])\n",
      "torch.Size([100, 1]) torch.Size([100, 1])\n",
      "torch.Size([50, 1]) torch.Size([50, 1])\n",
      "torch.Size([50, 1]) torch.Size([50, 1])\n",
      "torch.Size([1000, 1]) torch.Size([1000, 1])\n",
      "torch.Size([100, 1]) torch.Size([100, 1])\n",
      "torch.Size([50, 1]) torch.Size([50, 1])\n",
      "torch.Size([50, 1]) torch.Size([50, 1])\n",
      "torch.Size([1000, 1]) torch.Size([1000, 1])\n",
      "torch.Size([100, 1]) torch.Size([100, 1])\n",
      "torch.Size([50, 1]) torch.Size([50, 1])\n",
      "torch.Size([50, 1]) torch.Size([50, 1])\n",
      "torch.Size([1000, 1]) torch.Size([1000, 1])\n"
     ]
    },
    {
     "name": "stderr",
     "output_type": "stream",
     "text": [
      "loss: 0.1865868866443634:   0%|          | 0/70 [00:02<?, ?it/s] "
     ]
    },
    {
     "name": "stdout",
     "output_type": "stream",
     "text": [
      "torch.Size([100, 1]) torch.Size([100, 1])\n",
      "torch.Size([50, 1]) torch.Size([50, 1])\n",
      "torch.Size([50, 1]) torch.Size([50, 1])\n",
      "torch.Size([1000, 1]) torch.Size([1000, 1])\n",
      "torch.Size([100, 1]) torch.Size([100, 1])\n",
      "torch.Size([50, 1]) torch.Size([50, 1])\n",
      "torch.Size([50, 1]) torch.Size([50, 1])\n",
      "torch.Size([1000, 1]) torch.Size([1000, 1])\n",
      "torch.Size([100, 1]) torch.Size([100, 1])\n",
      "torch.Size([50, 1]) torch.Size([50, 1])\n",
      "torch.Size([50, 1]) torch.Size([50, 1])\n",
      "torch.Size([1000, 1]) torch.Size([1000, 1])\n",
      "torch.Size([100, 1]) torch.Size([100, 1])\n",
      "torch.Size([50, 1]) torch.Size([50, 1])\n",
      "torch.Size([50, 1]) torch.Size([50, 1])\n",
      "torch.Size([1000, 1]) torch.Size([1000, 1])\n",
      "torch.Size([100, 1]) torch.Size([100, 1])\n",
      "torch.Size([50, 1]) torch.Size([50, 1])\n",
      "torch.Size([50, 1]) torch.Size([50, 1])\n",
      "torch.Size([1000, 1]) torch.Size([1000, 1])\n",
      "torch.Size([100, 1]) torch.Size([100, 1])\n",
      "torch.Size([50, 1]) torch.Size([50, 1])\n"
     ]
    },
    {
     "name": "stderr",
     "output_type": "stream",
     "text": [
      "loss: 0.17808037996292114:   0%|          | 0/70 [00:02<?, ?it/s]"
     ]
    },
    {
     "name": "stdout",
     "output_type": "stream",
     "text": [
      "torch.Size([50, 1]) torch.Size([50, 1])\n",
      "torch.Size([1000, 1]) torch.Size([1000, 1])\n",
      "torch.Size([100, 1]) torch.Size([100, 1])\n",
      "torch.Size([50, 1]) torch.Size([50, 1])\n",
      "torch.Size([50, 1]) torch.Size([50, 1])\n",
      "torch.Size([1000, 1]) torch.Size([1000, 1])\n",
      "torch.Size([100, 1]) torch.Size([100, 1])\n",
      "torch.Size([50, 1]) torch.Size([50, 1])\n",
      "torch.Size([50, 1]) torch.Size([50, 1])\n",
      "torch.Size([1000, 1]) torch.Size([1000, 1])\n",
      "torch.Size([100, 1]) torch.Size([100, 1])\n",
      "torch.Size([50, 1]) torch.Size([50, 1])\n",
      "torch.Size([50, 1]) torch.Size([50, 1])\n",
      "torch.Size([1000, 1]) torch.Size([1000, 1])\n",
      "torch.Size([100, 1]) torch.Size([100, 1])\n",
      "torch.Size([50, 1]) torch.Size([50, 1])\n",
      "torch.Size([50, 1]) torch.Size([50, 1])\n"
     ]
    },
    {
     "name": "stderr",
     "output_type": "stream",
     "text": [
      "loss: 0.17465591430664062:   0%|          | 0/70 [00:02<?, ?it/s]"
     ]
    },
    {
     "name": "stdout",
     "output_type": "stream",
     "text": [
      "torch.Size([1000, 1]) torch.Size([1000, 1])\n",
      "torch.Size([100, 1]) torch.Size([100, 1])\n",
      "torch.Size([50, 1]) torch.Size([50, 1])\n",
      "torch.Size([50, 1]) torch.Size([50, 1])\n",
      "torch.Size([1000, 1]) torch.Size([1000, 1])\n",
      "torch.Size([100, 1]) torch.Size([100, 1])\n",
      "torch.Size([50, 1]) torch.Size([50, 1])\n",
      "torch.Size([50, 1]) torch.Size([50, 1])\n",
      "torch.Size([1000, 1]) torch.Size([1000, 1])\n",
      "torch.Size([100, 1]) torch.Size([100, 1])\n",
      "torch.Size([50, 1]) torch.Size([50, 1])\n",
      "torch.Size([50, 1]) torch.Size([50, 1])\n",
      "torch.Size([1000, 1]) torch.Size([1000, 1])\n"
     ]
    },
    {
     "name": "stderr",
     "output_type": "stream",
     "text": [
      "loss: 0.1656305342912674:   0%|          | 0/70 [00:03<?, ?it/s] "
     ]
    },
    {
     "name": "stdout",
     "output_type": "stream",
     "text": [
      "torch.Size([100, 1]) torch.Size([100, 1])\n",
      "torch.Size([50, 1]) torch.Size([50, 1])\n",
      "torch.Size([50, 1]) torch.Size([50, 1])\n",
      "torch.Size([1000, 1]) torch.Size([1000, 1])\n",
      "torch.Size([100, 1]) torch.Size([100, 1])\n",
      "torch.Size([50, 1]) torch.Size([50, 1])\n",
      "torch.Size([50, 1]) torch.Size([50, 1])\n",
      "torch.Size([1000, 1]) torch.Size([1000, 1])\n",
      "torch.Size([100, 1]) torch.Size([100, 1])\n",
      "torch.Size([50, 1]) torch.Size([50, 1])\n",
      "torch.Size([50, 1]) torch.Size([50, 1])\n",
      "torch.Size([1000, 1]) torch.Size([1000, 1])\n",
      "torch.Size([100, 1]) torch.Size([100, 1])\n",
      "torch.Size([50, 1]) torch.Size([50, 1])\n",
      "torch.Size([50, 1]) torch.Size([50, 1])\n",
      "torch.Size([1000, 1]) torch.Size([1000, 1])\n"
     ]
    },
    {
     "name": "stderr",
     "output_type": "stream",
     "text": [
      "loss: 0.15388308465480804:   0%|          | 0/70 [00:03<?, ?it/s]"
     ]
    },
    {
     "name": "stdout",
     "output_type": "stream",
     "text": [
      "torch.Size([100, 1]) torch.Size([100, 1])\n",
      "torch.Size([50, 1]) torch.Size([50, 1])\n",
      "torch.Size([50, 1]) torch.Size([50, 1])\n",
      "torch.Size([1000, 1]) torch.Size([1000, 1])\n",
      "torch.Size([100, 1]) torch.Size([100, 1])\n",
      "torch.Size([50, 1]) torch.Size([50, 1])\n",
      "torch.Size([50, 1]) torch.Size([50, 1])\n",
      "torch.Size([1000, 1]) torch.Size([1000, 1])\n",
      "torch.Size([100, 1]) torch.Size([100, 1])\n",
      "torch.Size([50, 1]) torch.Size([50, 1])\n",
      "torch.Size([50, 1]) torch.Size([50, 1])\n",
      "torch.Size([1000, 1]) torch.Size([1000, 1])\n",
      "torch.Size([100, 1]) torch.Size([100, 1])\n",
      "torch.Size([50, 1]) torch.Size([50, 1])\n",
      "torch.Size([50, 1]) torch.Size([50, 1])\n",
      "torch.Size([1000, 1]) torch.Size([1000, 1])\n",
      "torch.Size([100, 1]) torch.Size([100, 1])\n",
      "torch.Size([50, 1]) torch.Size([50, 1])\n",
      "torch.Size([50, 1]) torch.Size([50, 1])\n",
      "torch.Size([1000, 1]) torch.Size([1000, 1])\n",
      "torch.Size([100, 1]) torch.Size([100, 1])\n",
      "torch.Size([50, 1]) torch.Size([50, 1])\n",
      "torch.Size([50, 1]) torch.Size([50, 1])\n",
      "torch.Size([1000, 1]) torch.Size([1000, 1])\n"
     ]
    },
    {
     "name": "stderr",
     "output_type": "stream",
     "text": [
      "loss: 0.1435067355632782:   0%|          | 0/70 [00:03<?, ?it/s] "
     ]
    },
    {
     "name": "stdout",
     "output_type": "stream",
     "text": [
      "torch.Size([100, 1]) torch.Size([100, 1])\n",
      "torch.Size([50, 1]) torch.Size([50, 1])\n",
      "torch.Size([50, 1]) torch.Size([50, 1])\n",
      "torch.Size([1000, 1]) torch.Size([1000, 1])\n",
      "torch.Size([100, 1]) torch.Size([100, 1])\n",
      "torch.Size([50, 1]) torch.Size([50, 1])\n",
      "torch.Size([50, 1]) torch.Size([50, 1])\n",
      "torch.Size([1000, 1]) torch.Size([1000, 1])\n",
      "torch.Size([100, 1]) torch.Size([100, 1])\n",
      "torch.Size([50, 1]) torch.Size([50, 1])\n",
      "torch.Size([50, 1]) torch.Size([50, 1])\n",
      "torch.Size([1000, 1]) torch.Size([1000, 1])\n",
      "torch.Size([100, 1]) torch.Size([100, 1])\n",
      "torch.Size([50, 1]) torch.Size([50, 1])\n",
      "torch.Size([50, 1]) torch.Size([50, 1])\n",
      "torch.Size([1000, 1]) torch.Size([1000, 1])\n",
      "torch.Size([100, 1]) torch.Size([100, 1])\n",
      "torch.Size([50, 1]) torch.Size([50, 1])\n",
      "torch.Size([50, 1]) torch.Size([50, 1])\n",
      "torch.Size([1000, 1]) torch.Size([1000, 1])\n",
      "torch.Size([100, 1]) torch.Size([100, 1])\n",
      "torch.Size([50, 1]) torch.Size([50, 1])\n",
      "torch.Size([50, 1]) torch.Size([50, 1])\n",
      "torch.Size([1000, 1]) torch.Size([1000, 1])\n"
     ]
    },
    {
     "name": "stderr",
     "output_type": "stream",
     "text": [
      "loss: 0.13168184459209442:   0%|          | 0/70 [00:03<?, ?it/s]"
     ]
    },
    {
     "name": "stdout",
     "output_type": "stream",
     "text": [
      "torch.Size([100, 1]) torch.Size([100, 1])\n",
      "torch.Size([50, 1]) torch.Size([50, 1])\n",
      "torch.Size([50, 1]) torch.Size([50, 1])\n",
      "torch.Size([1000, 1]) torch.Size([1000, 1])\n",
      "torch.Size([100, 1]) torch.Size([100, 1])\n",
      "torch.Size([50, 1]) torch.Size([50, 1])\n",
      "torch.Size([50, 1]) torch.Size([50, 1])\n",
      "torch.Size([1000, 1]) torch.Size([1000, 1])\n",
      "torch.Size([100, 1]) torch.Size([100, 1])\n",
      "torch.Size([50, 1]) torch.Size([50, 1])\n",
      "torch.Size([50, 1]) torch.Size([50, 1])\n",
      "torch.Size([1000, 1]) torch.Size([1000, 1])\n",
      "torch.Size([100, 1]) torch.Size([100, 1])\n",
      "torch.Size([50, 1]) torch.Size([50, 1])\n",
      "torch.Size([50, 1]) torch.Size([50, 1])\n",
      "torch.Size([1000, 1]) torch.Size([1000, 1])\n",
      "torch.Size([100, 1]) torch.Size([100, 1])\n",
      "torch.Size([50, 1]) torch.Size([50, 1])\n",
      "torch.Size([50, 1]) torch.Size([50, 1])\n",
      "torch.Size([1000, 1]) torch.Size([1000, 1])\n",
      "torch.Size([100, 1]) torch.Size([100, 1])\n",
      "torch.Size([50, 1]) torch.Size([50, 1])\n",
      "torch.Size([50, 1]) torch.Size([50, 1])\n",
      "torch.Size([1000, 1]) torch.Size([1000, 1])\n"
     ]
    },
    {
     "name": "stderr",
     "output_type": "stream",
     "text": [
      "loss: 0.12600582838058472:   0%|          | 0/70 [00:04<?, ?it/s]"
     ]
    },
    {
     "name": "stdout",
     "output_type": "stream",
     "text": [
      "torch.Size([100, 1]) torch.Size([100, 1])\n",
      "torch.Size([50, 1]) torch.Size([50, 1])\n",
      "torch.Size([50, 1]) torch.Size([50, 1])\n",
      "torch.Size([1000, 1]) torch.Size([1000, 1])\n",
      "torch.Size([100, 1]) torch.Size([100, 1])\n",
      "torch.Size([50, 1]) torch.Size([50, 1])\n",
      "torch.Size([50, 1]) torch.Size([50, 1])\n",
      "torch.Size([1000, 1]) torch.Size([1000, 1])\n",
      "torch.Size([100, 1]) torch.Size([100, 1])\n",
      "torch.Size([50, 1]) torch.Size([50, 1])\n",
      "torch.Size([50, 1]) torch.Size([50, 1])\n",
      "torch.Size([1000, 1]) torch.Size([1000, 1])\n",
      "torch.Size([100, 1]) torch.Size([100, 1])\n",
      "torch.Size([50, 1]) torch.Size([50, 1])\n",
      "torch.Size([50, 1]) torch.Size([50, 1])\n",
      "torch.Size([1000, 1]) torch.Size([1000, 1])\n",
      "torch.Size([100, 1]) torch.Size([100, 1])\n",
      "torch.Size([50, 1]) torch.Size([50, 1])\n",
      "torch.Size([50, 1]) torch.Size([50, 1])\n",
      "torch.Size([1000, 1]) torch.Size([1000, 1])\n"
     ]
    },
    {
     "name": "stderr",
     "output_type": "stream",
     "text": [
      "loss: 0.12349487841129303:   0%|          | 0/70 [00:04<?, ?it/s]"
     ]
    },
    {
     "name": "stdout",
     "output_type": "stream",
     "text": [
      "torch.Size([100, 1]) torch.Size([100, 1])\n",
      "torch.Size([50, 1]) torch.Size([50, 1])\n",
      "torch.Size([50, 1]) torch.Size([50, 1])\n",
      "torch.Size([1000, 1]) torch.Size([1000, 1])\n",
      "torch.Size([100, 1]) torch.Size([100, 1])\n",
      "torch.Size([50, 1]) torch.Size([50, 1])\n",
      "torch.Size([50, 1]) torch.Size([50, 1])\n",
      "torch.Size([1000, 1]) torch.Size([1000, 1])\n",
      "torch.Size([100, 1]) torch.Size([100, 1])\n",
      "torch.Size([50, 1]) torch.Size([50, 1])\n",
      "torch.Size([50, 1]) torch.Size([50, 1])\n",
      "torch.Size([1000, 1]) torch.Size([1000, 1])\n",
      "torch.Size([100, 1]) torch.Size([100, 1])\n",
      "torch.Size([50, 1]) torch.Size([50, 1])\n",
      "torch.Size([50, 1]) torch.Size([50, 1])\n",
      "torch.Size([1000, 1]) torch.Size([1000, 1])\n",
      "torch.Size([100, 1]) torch.Size([100, 1])\n",
      "torch.Size([50, 1]) torch.Size([50, 1])\n",
      "torch.Size([50, 1]) torch.Size([50, 1])\n",
      "torch.Size([1000, 1]) torch.Size([1000, 1])\n"
     ]
    },
    {
     "name": "stderr",
     "output_type": "stream",
     "text": [
      "loss: 0.12089443951845169:   0%|          | 0/70 [00:04<?, ?it/s]"
     ]
    },
    {
     "name": "stdout",
     "output_type": "stream",
     "text": [
      "torch.Size([100, 1]) torch.Size([100, 1])\n",
      "torch.Size([50, 1]) torch.Size([50, 1])\n",
      "torch.Size([50, 1]) torch.Size([50, 1])\n",
      "torch.Size([1000, 1]) torch.Size([1000, 1])\n",
      "torch.Size([100, 1]) torch.Size([100, 1])\n",
      "torch.Size([50, 1]) torch.Size([50, 1])\n",
      "torch.Size([50, 1]) torch.Size([50, 1])\n",
      "torch.Size([1000, 1]) torch.Size([1000, 1])\n",
      "torch.Size([100, 1]) torch.Size([100, 1])\n",
      "torch.Size([50, 1]) torch.Size([50, 1])\n",
      "torch.Size([50, 1]) torch.Size([50, 1])\n",
      "torch.Size([1000, 1]) torch.Size([1000, 1])\n",
      "torch.Size([100, 1]) torch.Size([100, 1])\n",
      "torch.Size([50, 1]) torch.Size([50, 1])\n",
      "torch.Size([50, 1]) torch.Size([50, 1])\n",
      "torch.Size([1000, 1]) torch.Size([1000, 1])\n",
      "torch.Size([100, 1]) torch.Size([100, 1])\n",
      "torch.Size([50, 1]) torch.Size([50, 1])\n",
      "torch.Size([50, 1]) torch.Size([50, 1])\n",
      "torch.Size([1000, 1]) torch.Size([1000, 1])\n"
     ]
    },
    {
     "name": "stderr",
     "output_type": "stream",
     "text": [
      "loss: 0.11903204768896103:   0%|          | 0/70 [00:04<?, ?it/s]"
     ]
    },
    {
     "name": "stdout",
     "output_type": "stream",
     "text": [
      "torch.Size([100, 1]) torch.Size([100, 1])\n",
      "torch.Size([50, 1]) torch.Size([50, 1])\n",
      "torch.Size([50, 1]) torch.Size([50, 1])\n",
      "torch.Size([1000, 1]) torch.Size([1000, 1])\n",
      "torch.Size([100, 1]) torch.Size([100, 1])\n",
      "torch.Size([50, 1]) torch.Size([50, 1])\n",
      "torch.Size([50, 1]) torch.Size([50, 1])\n",
      "torch.Size([1000, 1]) torch.Size([1000, 1])\n",
      "torch.Size([100, 1]) torch.Size([100, 1])\n",
      "torch.Size([50, 1]) torch.Size([50, 1])\n",
      "torch.Size([50, 1]) torch.Size([50, 1])\n",
      "torch.Size([1000, 1]) torch.Size([1000, 1])\n",
      "torch.Size([100, 1]) torch.Size([100, 1])\n",
      "torch.Size([50, 1]) torch.Size([50, 1])\n",
      "torch.Size([50, 1]) torch.Size([50, 1])\n",
      "torch.Size([1000, 1]) torch.Size([1000, 1])\n",
      "torch.Size([100, 1]) torch.Size([100, 1])\n",
      "torch.Size([50, 1]) torch.Size([50, 1])\n",
      "torch.Size([50, 1]) torch.Size([50, 1])\n",
      "torch.Size([1000, 1]) torch.Size([1000, 1])\n"
     ]
    },
    {
     "name": "stderr",
     "output_type": "stream",
     "text": [
      "loss: 0.11387576162815094:   0%|          | 0/70 [00:04<?, ?it/s]"
     ]
    },
    {
     "name": "stdout",
     "output_type": "stream",
     "text": [
      "torch.Size([100, 1]) torch.Size([100, 1])\n",
      "torch.Size([50, 1]) torch.Size([50, 1])\n",
      "torch.Size([50, 1]) torch.Size([50, 1])\n",
      "torch.Size([1000, 1]) torch.Size([1000, 1])\n",
      "torch.Size([100, 1]) torch.Size([100, 1])\n",
      "torch.Size([50, 1]) torch.Size([50, 1])\n",
      "torch.Size([50, 1]) torch.Size([50, 1])\n",
      "torch.Size([1000, 1]) torch.Size([1000, 1])\n",
      "torch.Size([100, 1]) torch.Size([100, 1])\n",
      "torch.Size([50, 1]) torch.Size([50, 1])\n",
      "torch.Size([50, 1]) torch.Size([50, 1])\n",
      "torch.Size([1000, 1]) torch.Size([1000, 1])\n",
      "torch.Size([100, 1]) torch.Size([100, 1])\n",
      "torch.Size([50, 1]) torch.Size([50, 1])\n",
      "torch.Size([50, 1]) torch.Size([50, 1])\n",
      "torch.Size([1000, 1]) torch.Size([1000, 1])\n",
      "torch.Size([100, 1]) torch.Size([100, 1])\n",
      "torch.Size([50, 1]) torch.Size([50, 1])\n",
      "torch.Size([50, 1]) torch.Size([50, 1])\n",
      "torch.Size([1000, 1]) torch.Size([1000, 1])\n"
     ]
    },
    {
     "name": "stderr",
     "output_type": "stream",
     "text": [
      "loss: 0.11113730072975159:   0%|          | 0/70 [00:05<?, ?it/s]"
     ]
    },
    {
     "name": "stdout",
     "output_type": "stream",
     "text": [
      "torch.Size([100, 1]) torch.Size([100, 1])\n",
      "torch.Size([50, 1]) torch.Size([50, 1])\n",
      "torch.Size([50, 1]) torch.Size([50, 1])\n",
      "torch.Size([1000, 1]) torch.Size([1000, 1])\n",
      "torch.Size([100, 1]) torch.Size([100, 1])\n",
      "torch.Size([50, 1]) torch.Size([50, 1])\n",
      "torch.Size([50, 1]) torch.Size([50, 1])\n",
      "torch.Size([1000, 1]) torch.Size([1000, 1])\n",
      "torch.Size([100, 1]) torch.Size([100, 1])\n",
      "torch.Size([50, 1]) torch.Size([50, 1])\n",
      "torch.Size([50, 1]) torch.Size([50, 1])\n",
      "torch.Size([1000, 1]) torch.Size([1000, 1])\n",
      "torch.Size([100, 1]) torch.Size([100, 1])\n",
      "torch.Size([50, 1]) torch.Size([50, 1])\n",
      "torch.Size([50, 1]) torch.Size([50, 1])\n",
      "torch.Size([1000, 1]) torch.Size([1000, 1])\n",
      "torch.Size([100, 1]) torch.Size([100, 1])\n",
      "torch.Size([50, 1]) torch.Size([50, 1])\n",
      "torch.Size([50, 1]) torch.Size([50, 1])\n",
      "torch.Size([1000, 1]) torch.Size([1000, 1])\n"
     ]
    },
    {
     "name": "stderr",
     "output_type": "stream",
     "text": [
      "loss: 0.10545223951339722:   0%|          | 0/70 [00:05<?, ?it/s]"
     ]
    },
    {
     "name": "stdout",
     "output_type": "stream",
     "text": [
      "torch.Size([100, 1]) torch.Size([100, 1])\n",
      "torch.Size([50, 1]) torch.Size([50, 1])\n",
      "torch.Size([50, 1]) torch.Size([50, 1])\n",
      "torch.Size([1000, 1]) torch.Size([1000, 1])\n",
      "torch.Size([100, 1]) torch.Size([100, 1])\n",
      "torch.Size([50, 1]) torch.Size([50, 1])\n",
      "torch.Size([50, 1]) torch.Size([50, 1])\n",
      "torch.Size([1000, 1]) torch.Size([1000, 1])\n",
      "torch.Size([100, 1]) torch.Size([100, 1])\n",
      "torch.Size([50, 1]) torch.Size([50, 1])\n",
      "torch.Size([50, 1]) torch.Size([50, 1])\n",
      "torch.Size([1000, 1]) torch.Size([1000, 1])\n",
      "torch.Size([100, 1]) torch.Size([100, 1])\n",
      "torch.Size([50, 1]) torch.Size([50, 1])\n",
      "torch.Size([50, 1]) torch.Size([50, 1])\n",
      "torch.Size([1000, 1]) torch.Size([1000, 1])\n",
      "torch.Size([100, 1]) torch.Size([100, 1])\n",
      "torch.Size([50, 1]) torch.Size([50, 1])\n",
      "torch.Size([50, 1]) torch.Size([50, 1])\n",
      "torch.Size([1000, 1]) torch.Size([1000, 1])\n"
     ]
    },
    {
     "name": "stderr",
     "output_type": "stream",
     "text": [
      "loss: 0.10036978125572205:   0%|          | 0/70 [00:05<?, ?it/s]"
     ]
    },
    {
     "name": "stdout",
     "output_type": "stream",
     "text": [
      "torch.Size([100, 1]) torch.Size([100, 1])\n",
      "torch.Size([50, 1]) torch.Size([50, 1])\n",
      "torch.Size([50, 1]) torch.Size([50, 1])\n",
      "torch.Size([1000, 1]) torch.Size([1000, 1])\n",
      "torch.Size([100, 1]) torch.Size([100, 1])\n",
      "torch.Size([50, 1]) torch.Size([50, 1])\n",
      "torch.Size([50, 1]) torch.Size([50, 1])\n",
      "torch.Size([1000, 1]) torch.Size([1000, 1])\n",
      "torch.Size([100, 1]) torch.Size([100, 1])\n",
      "torch.Size([50, 1]) torch.Size([50, 1])\n",
      "torch.Size([50, 1]) torch.Size([50, 1])\n",
      "torch.Size([1000, 1]) torch.Size([1000, 1])\n",
      "torch.Size([100, 1]) torch.Size([100, 1])\n",
      "torch.Size([50, 1]) torch.Size([50, 1])\n",
      "torch.Size([50, 1]) torch.Size([50, 1])\n",
      "torch.Size([1000, 1]) torch.Size([1000, 1])\n",
      "torch.Size([100, 1]) torch.Size([100, 1])\n",
      "torch.Size([50, 1]) torch.Size([50, 1])\n",
      "torch.Size([50, 1]) torch.Size([50, 1])\n",
      "torch.Size([1000, 1]) torch.Size([1000, 1])\n"
     ]
    },
    {
     "name": "stderr",
     "output_type": "stream",
     "text": [
      "loss: 0.09166325628757477:   0%|          | 0/70 [00:05<?, ?it/s]"
     ]
    },
    {
     "name": "stdout",
     "output_type": "stream",
     "text": [
      "torch.Size([100, 1]) torch.Size([100, 1])\n",
      "torch.Size([50, 1]) torch.Size([50, 1])\n",
      "torch.Size([50, 1]) torch.Size([50, 1])\n",
      "torch.Size([1000, 1]) torch.Size([1000, 1])\n",
      "torch.Size([100, 1]) torch.Size([100, 1])\n",
      "torch.Size([50, 1]) torch.Size([50, 1])\n",
      "torch.Size([50, 1]) torch.Size([50, 1])\n",
      "torch.Size([1000, 1]) torch.Size([1000, 1])\n",
      "torch.Size([100, 1]) torch.Size([100, 1])\n",
      "torch.Size([50, 1]) torch.Size([50, 1])\n",
      "torch.Size([50, 1]) torch.Size([50, 1])\n",
      "torch.Size([1000, 1]) torch.Size([1000, 1])\n",
      "torch.Size([100, 1]) torch.Size([100, 1])\n",
      "torch.Size([50, 1]) torch.Size([50, 1])\n",
      "torch.Size([50, 1]) torch.Size([50, 1])\n",
      "torch.Size([1000, 1]) torch.Size([1000, 1])\n",
      "torch.Size([100, 1]) torch.Size([100, 1])\n",
      "torch.Size([50, 1]) torch.Size([50, 1])\n",
      "torch.Size([50, 1]) torch.Size([50, 1])\n",
      "torch.Size([1000, 1]) torch.Size([1000, 1])\n"
     ]
    },
    {
     "name": "stderr",
     "output_type": "stream",
     "text": [
      "loss: 0.08484052866697311:   0%|          | 0/70 [00:05<?, ?it/s]"
     ]
    },
    {
     "name": "stdout",
     "output_type": "stream",
     "text": [
      "torch.Size([100, 1]) torch.Size([100, 1])\n",
      "torch.Size([50, 1]) torch.Size([50, 1])\n",
      "torch.Size([50, 1]) torch.Size([50, 1])\n",
      "torch.Size([1000, 1]) torch.Size([1000, 1])\n",
      "torch.Size([100, 1]) torch.Size([100, 1])\n",
      "torch.Size([50, 1]) torch.Size([50, 1])\n",
      "torch.Size([50, 1]) torch.Size([50, 1])\n",
      "torch.Size([1000, 1]) torch.Size([1000, 1])\n",
      "torch.Size([100, 1]) torch.Size([100, 1])\n",
      "torch.Size([50, 1]) torch.Size([50, 1])\n",
      "torch.Size([50, 1]) torch.Size([50, 1])\n",
      "torch.Size([1000, 1]) torch.Size([1000, 1])\n",
      "torch.Size([100, 1]) torch.Size([100, 1])\n",
      "torch.Size([50, 1]) torch.Size([50, 1])\n",
      "torch.Size([50, 1]) torch.Size([50, 1])\n",
      "torch.Size([1000, 1]) torch.Size([1000, 1])\n",
      "torch.Size([100, 1]) torch.Size([100, 1])\n",
      "torch.Size([50, 1]) torch.Size([50, 1])\n",
      "torch.Size([50, 1]) torch.Size([50, 1])\n",
      "torch.Size([1000, 1]) torch.Size([1000, 1])\n"
     ]
    },
    {
     "name": "stderr",
     "output_type": "stream",
     "text": [
      "loss: 0.0813499242067337:   0%|          | 0/70 [00:06<?, ?it/s] "
     ]
    },
    {
     "name": "stdout",
     "output_type": "stream",
     "text": [
      "torch.Size([100, 1]) torch.Size([100, 1])\n",
      "torch.Size([50, 1]) torch.Size([50, 1])\n",
      "torch.Size([50, 1]) torch.Size([50, 1])\n",
      "torch.Size([1000, 1]) torch.Size([1000, 1])\n",
      "torch.Size([100, 1]) torch.Size([100, 1])\n",
      "torch.Size([50, 1]) torch.Size([50, 1])\n",
      "torch.Size([50, 1]) torch.Size([50, 1])\n",
      "torch.Size([1000, 1]) torch.Size([1000, 1])\n",
      "torch.Size([100, 1]) torch.Size([100, 1])\n",
      "torch.Size([50, 1]) torch.Size([50, 1])\n",
      "torch.Size([50, 1]) torch.Size([50, 1])\n",
      "torch.Size([1000, 1]) torch.Size([1000, 1])\n",
      "torch.Size([100, 1]) torch.Size([100, 1])\n",
      "torch.Size([50, 1]) torch.Size([50, 1])\n",
      "torch.Size([50, 1]) torch.Size([50, 1])\n",
      "torch.Size([1000, 1]) torch.Size([1000, 1])\n",
      "torch.Size([100, 1]) torch.Size([100, 1])\n",
      "torch.Size([50, 1]) torch.Size([50, 1])\n",
      "torch.Size([50, 1]) torch.Size([50, 1])\n",
      "torch.Size([1000, 1]) torch.Size([1000, 1])\n"
     ]
    },
    {
     "name": "stderr",
     "output_type": "stream",
     "text": [
      "loss: 0.07990922033786774:   0%|          | 0/70 [00:06<?, ?it/s]"
     ]
    },
    {
     "name": "stdout",
     "output_type": "stream",
     "text": [
      "torch.Size([100, 1]) torch.Size([100, 1])\n",
      "torch.Size([50, 1]) torch.Size([50, 1])\n",
      "torch.Size([50, 1]) torch.Size([50, 1])\n",
      "torch.Size([1000, 1]) torch.Size([1000, 1])\n",
      "torch.Size([100, 1]) torch.Size([100, 1])\n",
      "torch.Size([50, 1]) torch.Size([50, 1])\n",
      "torch.Size([50, 1]) torch.Size([50, 1])\n",
      "torch.Size([1000, 1]) torch.Size([1000, 1])\n",
      "torch.Size([100, 1]) torch.Size([100, 1])\n",
      "torch.Size([50, 1]) torch.Size([50, 1])\n",
      "torch.Size([50, 1]) torch.Size([50, 1])\n",
      "torch.Size([1000, 1]) torch.Size([1000, 1])\n",
      "torch.Size([100, 1]) torch.Size([100, 1])\n",
      "torch.Size([50, 1]) torch.Size([50, 1])\n",
      "torch.Size([50, 1]) torch.Size([50, 1])\n",
      "torch.Size([1000, 1]) torch.Size([1000, 1])\n",
      "torch.Size([100, 1]) torch.Size([100, 1])\n",
      "torch.Size([50, 1]) torch.Size([50, 1])\n",
      "torch.Size([50, 1]) torch.Size([50, 1])\n",
      "torch.Size([1000, 1]) torch.Size([1000, 1])\n"
     ]
    },
    {
     "name": "stderr",
     "output_type": "stream",
     "text": [
      "loss: 0.07815409451723099:   0%|          | 0/70 [00:06<?, ?it/s]"
     ]
    },
    {
     "name": "stdout",
     "output_type": "stream",
     "text": [
      "torch.Size([100, 1]) torch.Size([100, 1])\n",
      "torch.Size([50, 1]) torch.Size([50, 1])\n",
      "torch.Size([50, 1]) torch.Size([50, 1])\n",
      "torch.Size([1000, 1]) torch.Size([1000, 1])\n",
      "torch.Size([100, 1]) torch.Size([100, 1])\n",
      "torch.Size([50, 1]) torch.Size([50, 1])\n",
      "torch.Size([50, 1]) torch.Size([50, 1])\n",
      "torch.Size([1000, 1]) torch.Size([1000, 1])\n",
      "torch.Size([100, 1]) torch.Size([100, 1])\n",
      "torch.Size([50, 1]) torch.Size([50, 1])\n",
      "torch.Size([50, 1]) torch.Size([50, 1])\n",
      "torch.Size([1000, 1]) torch.Size([1000, 1])\n",
      "torch.Size([100, 1]) torch.Size([100, 1])\n",
      "torch.Size([50, 1]) torch.Size([50, 1])\n",
      "torch.Size([50, 1]) torch.Size([50, 1])\n",
      "torch.Size([1000, 1]) torch.Size([1000, 1])\n",
      "torch.Size([100, 1]) torch.Size([100, 1])\n",
      "torch.Size([50, 1]) torch.Size([50, 1])\n",
      "torch.Size([50, 1]) torch.Size([50, 1])\n",
      "torch.Size([1000, 1]) torch.Size([1000, 1])\n"
     ]
    },
    {
     "name": "stderr",
     "output_type": "stream",
     "text": [
      "loss: 0.07713590562343597:   0%|          | 0/70 [00:06<?, ?it/s]"
     ]
    },
    {
     "name": "stdout",
     "output_type": "stream",
     "text": [
      "torch.Size([100, 1]) torch.Size([100, 1])\n",
      "torch.Size([50, 1]) torch.Size([50, 1])\n",
      "torch.Size([50, 1]) torch.Size([50, 1])\n",
      "torch.Size([1000, 1]) torch.Size([1000, 1])\n",
      "torch.Size([100, 1]) torch.Size([100, 1])\n",
      "torch.Size([50, 1]) torch.Size([50, 1])\n",
      "torch.Size([50, 1]) torch.Size([50, 1])\n",
      "torch.Size([1000, 1]) torch.Size([1000, 1])\n",
      "torch.Size([100, 1]) torch.Size([100, 1])\n",
      "torch.Size([50, 1]) torch.Size([50, 1])\n",
      "torch.Size([50, 1]) torch.Size([50, 1])\n",
      "torch.Size([1000, 1]) torch.Size([1000, 1])\n",
      "torch.Size([100, 1]) torch.Size([100, 1])\n",
      "torch.Size([50, 1]) torch.Size([50, 1])\n",
      "torch.Size([50, 1]) torch.Size([50, 1])\n",
      "torch.Size([1000, 1]) torch.Size([1000, 1])\n",
      "torch.Size([100, 1]) torch.Size([100, 1])\n",
      "torch.Size([50, 1]) torch.Size([50, 1])\n",
      "torch.Size([50, 1]) torch.Size([50, 1])\n",
      "torch.Size([1000, 1]) torch.Size([1000, 1])\n"
     ]
    },
    {
     "name": "stderr",
     "output_type": "stream",
     "text": [
      "loss: 0.07566484808921814:   0%|          | 0/70 [00:07<?, ?it/s]"
     ]
    },
    {
     "name": "stdout",
     "output_type": "stream",
     "text": [
      "torch.Size([100, 1]) torch.Size([100, 1])\n",
      "torch.Size([50, 1]) torch.Size([50, 1])\n",
      "torch.Size([50, 1]) torch.Size([50, 1])\n",
      "torch.Size([1000, 1]) torch.Size([1000, 1])\n",
      "torch.Size([100, 1]) torch.Size([100, 1])\n",
      "torch.Size([50, 1]) torch.Size([50, 1])\n",
      "torch.Size([50, 1]) torch.Size([50, 1])\n",
      "torch.Size([1000, 1]) torch.Size([1000, 1])\n",
      "torch.Size([100, 1]) torch.Size([100, 1])\n",
      "torch.Size([50, 1]) torch.Size([50, 1])\n",
      "torch.Size([50, 1]) torch.Size([50, 1])\n",
      "torch.Size([1000, 1]) torch.Size([1000, 1])\n",
      "torch.Size([100, 1]) torch.Size([100, 1])\n",
      "torch.Size([50, 1]) torch.Size([50, 1])\n",
      "torch.Size([50, 1]) torch.Size([50, 1])\n",
      "torch.Size([1000, 1]) torch.Size([1000, 1])\n",
      "torch.Size([100, 1]) torch.Size([100, 1])\n",
      "torch.Size([50, 1]) torch.Size([50, 1])\n",
      "torch.Size([50, 1]) torch.Size([50, 1])\n",
      "torch.Size([1000, 1]) torch.Size([1000, 1])\n"
     ]
    },
    {
     "name": "stderr",
     "output_type": "stream",
     "text": [
      "loss: 0.07354062050580978:   0%|          | 0/70 [00:07<?, ?it/s]"
     ]
    },
    {
     "name": "stdout",
     "output_type": "stream",
     "text": [
      "torch.Size([100, 1]) torch.Size([100, 1])\n",
      "torch.Size([50, 1]) torch.Size([50, 1])\n",
      "torch.Size([50, 1]) torch.Size([50, 1])\n",
      "torch.Size([1000, 1]) torch.Size([1000, 1])\n",
      "torch.Size([100, 1]) torch.Size([100, 1])\n",
      "torch.Size([50, 1]) torch.Size([50, 1])\n",
      "torch.Size([50, 1]) torch.Size([50, 1])\n",
      "torch.Size([1000, 1]) torch.Size([1000, 1])\n",
      "torch.Size([100, 1]) torch.Size([100, 1])\n",
      "torch.Size([50, 1]) torch.Size([50, 1])\n",
      "torch.Size([50, 1]) torch.Size([50, 1])\n",
      "torch.Size([1000, 1]) torch.Size([1000, 1])\n",
      "torch.Size([100, 1]) torch.Size([100, 1])\n",
      "torch.Size([50, 1]) torch.Size([50, 1])\n",
      "torch.Size([50, 1]) torch.Size([50, 1])\n",
      "torch.Size([1000, 1]) torch.Size([1000, 1])\n",
      "torch.Size([100, 1]) torch.Size([100, 1])\n",
      "torch.Size([50, 1]) torch.Size([50, 1])\n",
      "torch.Size([50, 1]) torch.Size([50, 1])\n",
      "torch.Size([1000, 1]) torch.Size([1000, 1])\n"
     ]
    },
    {
     "name": "stderr",
     "output_type": "stream",
     "text": [
      "loss: 0.07122698426246643:   0%|          | 0/70 [00:07<?, ?it/s]"
     ]
    },
    {
     "name": "stdout",
     "output_type": "stream",
     "text": [
      "torch.Size([100, 1]) torch.Size([100, 1])\n",
      "torch.Size([50, 1]) torch.Size([50, 1])\n",
      "torch.Size([50, 1]) torch.Size([50, 1])\n",
      "torch.Size([1000, 1]) torch.Size([1000, 1])\n",
      "torch.Size([100, 1]) torch.Size([100, 1])\n",
      "torch.Size([50, 1]) torch.Size([50, 1])\n",
      "torch.Size([50, 1]) torch.Size([50, 1])\n",
      "torch.Size([1000, 1]) torch.Size([1000, 1])\n",
      "torch.Size([100, 1]) torch.Size([100, 1])\n",
      "torch.Size([50, 1]) torch.Size([50, 1])\n",
      "torch.Size([50, 1]) torch.Size([50, 1])\n",
      "torch.Size([1000, 1]) torch.Size([1000, 1])\n",
      "torch.Size([100, 1]) torch.Size([100, 1])\n",
      "torch.Size([50, 1]) torch.Size([50, 1])\n",
      "torch.Size([50, 1]) torch.Size([50, 1])\n",
      "torch.Size([1000, 1]) torch.Size([1000, 1])\n",
      "torch.Size([100, 1]) torch.Size([100, 1])\n",
      "torch.Size([50, 1]) torch.Size([50, 1])\n",
      "torch.Size([50, 1]) torch.Size([50, 1])\n",
      "torch.Size([1000, 1]) torch.Size([1000, 1])\n",
      "torch.Size([100, 1]) torch.Size([100, 1])\n"
     ]
    },
    {
     "name": "stderr",
     "output_type": "stream",
     "text": [
      "loss: 0.0709112137556076:   0%|          | 0/70 [00:07<?, ?it/s] "
     ]
    },
    {
     "name": "stdout",
     "output_type": "stream",
     "text": [
      "torch.Size([50, 1]) torch.Size([50, 1])\n",
      "torch.Size([50, 1]) torch.Size([50, 1])\n",
      "torch.Size([1000, 1]) torch.Size([1000, 1])\n",
      "torch.Size([100, 1]) torch.Size([100, 1])\n",
      "torch.Size([50, 1]) torch.Size([50, 1])\n",
      "torch.Size([50, 1]) torch.Size([50, 1])\n",
      "torch.Size([1000, 1]) torch.Size([1000, 1])\n",
      "torch.Size([100, 1]) torch.Size([100, 1])\n",
      "torch.Size([50, 1]) torch.Size([50, 1])\n",
      "torch.Size([50, 1]) torch.Size([50, 1])\n",
      "torch.Size([1000, 1]) torch.Size([1000, 1])\n",
      "torch.Size([100, 1]) torch.Size([100, 1])\n",
      "torch.Size([50, 1]) torch.Size([50, 1])\n",
      "torch.Size([50, 1]) torch.Size([50, 1])\n",
      "torch.Size([1000, 1]) torch.Size([1000, 1])\n",
      "torch.Size([100, 1]) torch.Size([100, 1])\n",
      "torch.Size([50, 1]) torch.Size([50, 1])\n",
      "torch.Size([50, 1]) torch.Size([50, 1])\n",
      "torch.Size([1000, 1]) torch.Size([1000, 1])\n"
     ]
    },
    {
     "name": "stderr",
     "output_type": "stream",
     "text": [
      "loss: 0.06695655733346939:   0%|          | 0/70 [00:07<?, ?it/s]"
     ]
    },
    {
     "name": "stdout",
     "output_type": "stream",
     "text": [
      "torch.Size([100, 1]) torch.Size([100, 1])\n",
      "torch.Size([50, 1]) torch.Size([50, 1])\n",
      "torch.Size([50, 1]) torch.Size([50, 1])\n",
      "torch.Size([1000, 1]) torch.Size([1000, 1])\n",
      "torch.Size([100, 1]) torch.Size([100, 1])\n",
      "torch.Size([50, 1]) torch.Size([50, 1])\n",
      "torch.Size([50, 1]) torch.Size([50, 1])\n",
      "torch.Size([1000, 1]) torch.Size([1000, 1])\n",
      "torch.Size([100, 1]) torch.Size([100, 1])\n",
      "torch.Size([50, 1]) torch.Size([50, 1])\n",
      "torch.Size([50, 1]) torch.Size([50, 1])\n",
      "torch.Size([1000, 1]) torch.Size([1000, 1])\n",
      "torch.Size([100, 1]) torch.Size([100, 1])\n",
      "torch.Size([50, 1]) torch.Size([50, 1])\n",
      "torch.Size([50, 1]) torch.Size([50, 1])\n",
      "torch.Size([1000, 1]) torch.Size([1000, 1])\n",
      "torch.Size([100, 1]) torch.Size([100, 1])\n",
      "torch.Size([50, 1]) torch.Size([50, 1])\n",
      "torch.Size([50, 1]) torch.Size([50, 1])\n",
      "torch.Size([1000, 1]) torch.Size([1000, 1])\n",
      "torch.Size([100, 1]) torch.Size([100, 1])\n",
      "torch.Size([50, 1]) torch.Size([50, 1])\n",
      "torch.Size([50, 1]) torch.Size([50, 1])\n"
     ]
    },
    {
     "name": "stderr",
     "output_type": "stream",
     "text": [
      "loss: 0.06495301425457001:   0%|          | 0/70 [00:08<?, ?it/s]"
     ]
    },
    {
     "name": "stdout",
     "output_type": "stream",
     "text": [
      "torch.Size([1000, 1]) torch.Size([1000, 1])\n",
      "torch.Size([100, 1]) torch.Size([100, 1])\n",
      "torch.Size([50, 1]) torch.Size([50, 1])\n",
      "torch.Size([50, 1]) torch.Size([50, 1])\n",
      "torch.Size([1000, 1]) torch.Size([1000, 1])\n",
      "torch.Size([100, 1]) torch.Size([100, 1])\n",
      "torch.Size([50, 1]) torch.Size([50, 1])\n",
      "torch.Size([50, 1]) torch.Size([50, 1])\n",
      "torch.Size([1000, 1]) torch.Size([1000, 1])\n",
      "torch.Size([100, 1]) torch.Size([100, 1])\n",
      "torch.Size([50, 1]) torch.Size([50, 1])\n",
      "torch.Size([50, 1]) torch.Size([50, 1])\n",
      "torch.Size([1000, 1]) torch.Size([1000, 1])\n",
      "torch.Size([100, 1]) torch.Size([100, 1])\n",
      "torch.Size([50, 1]) torch.Size([50, 1])\n",
      "torch.Size([50, 1]) torch.Size([50, 1])\n",
      "torch.Size([1000, 1]) torch.Size([1000, 1])\n",
      "torch.Size([100, 1]) torch.Size([100, 1])\n",
      "torch.Size([50, 1]) torch.Size([50, 1])\n",
      "torch.Size([50, 1]) torch.Size([50, 1])\n",
      "torch.Size([1000, 1]) torch.Size([1000, 1])\n"
     ]
    },
    {
     "name": "stderr",
     "output_type": "stream",
     "text": [
      "loss: 0.0645715743303299:   0%|          | 0/70 [00:08<?, ?it/s] "
     ]
    },
    {
     "name": "stdout",
     "output_type": "stream",
     "text": [
      "torch.Size([100, 1]) torch.Size([100, 1])\n",
      "torch.Size([50, 1]) torch.Size([50, 1])\n",
      "torch.Size([50, 1]) torch.Size([50, 1])\n",
      "torch.Size([1000, 1]) torch.Size([1000, 1])\n",
      "torch.Size([100, 1]) torch.Size([100, 1])\n",
      "torch.Size([50, 1]) torch.Size([50, 1])\n",
      "torch.Size([50, 1]) torch.Size([50, 1])\n",
      "torch.Size([1000, 1]) torch.Size([1000, 1])\n",
      "torch.Size([100, 1]) torch.Size([100, 1])\n",
      "torch.Size([50, 1]) torch.Size([50, 1])\n",
      "torch.Size([50, 1]) torch.Size([50, 1])\n",
      "torch.Size([1000, 1]) torch.Size([1000, 1])\n",
      "torch.Size([100, 1]) torch.Size([100, 1])\n",
      "torch.Size([50, 1]) torch.Size([50, 1])\n",
      "torch.Size([50, 1]) torch.Size([50, 1])\n",
      "torch.Size([1000, 1]) torch.Size([1000, 1])\n",
      "torch.Size([100, 1]) torch.Size([100, 1])\n",
      "torch.Size([50, 1]) torch.Size([50, 1])\n",
      "torch.Size([50, 1]) torch.Size([50, 1])\n",
      "torch.Size([1000, 1]) torch.Size([1000, 1])\n",
      "torch.Size([100, 1]) torch.Size([100, 1])\n",
      "torch.Size([50, 1]) torch.Size([50, 1])\n",
      "torch.Size([50, 1]) torch.Size([50, 1])\n",
      "torch.Size([1000, 1]) torch.Size([1000, 1])\n"
     ]
    },
    {
     "name": "stderr",
     "output_type": "stream",
     "text": [
      "loss: 0.06400594860315323:   0%|          | 0/70 [00:08<?, ?it/s]\n"
     ]
    },
    {
     "name": "stdout",
     "output_type": "stream",
     "text": [
      "torch.Size([100, 1]) torch.Size([100, 1])\n",
      "torch.Size([50, 1]) torch.Size([50, 1])\n",
      "torch.Size([50, 1]) torch.Size([50, 1])\n",
      "torch.Size([1000, 1]) torch.Size([1000, 1])\n",
      "torch.Size([100, 1]) torch.Size([100, 1])\n",
      "torch.Size([50, 1]) torch.Size([50, 1])\n",
      "torch.Size([50, 1]) torch.Size([50, 1])\n",
      "torch.Size([1000, 1]) torch.Size([1000, 1])\n",
      "torch.Size([100, 1]) torch.Size([100, 1])\n",
      "torch.Size([50, 1]) torch.Size([50, 1])\n",
      "torch.Size([50, 1]) torch.Size([50, 1])\n",
      "torch.Size([1000, 1]) torch.Size([1000, 1])\n",
      "torch.Size([100, 1]) torch.Size([100, 1])\n",
      "torch.Size([50, 1]) torch.Size([50, 1])\n",
      "torch.Size([50, 1]) torch.Size([50, 1])\n",
      "torch.Size([1000, 1]) torch.Size([1000, 1])\n",
      "torch.Size([100, 1]) torch.Size([100, 1])\n",
      "torch.Size([50, 1]) torch.Size([50, 1])\n",
      "torch.Size([50, 1]) torch.Size([50, 1])\n",
      "torch.Size([1000, 1]) torch.Size([1000, 1])\n"
     ]
    },
    {
     "ename": "KeyboardInterrupt",
     "evalue": "",
     "output_type": "error",
     "traceback": [
      "\u001b[0;31m---------------------------------------------------------------------------\u001b[0m",
      "\u001b[0;31mKeyboardInterrupt\u001b[0m                         Traceback (most recent call last)",
      "Cell \u001b[0;32mIn [98], line 40\u001b[0m\n\u001b[1;32m     36\u001b[0m     writer\u001b[38;5;241m.\u001b[39madd_scalar(\u001b[38;5;124m\"\u001b[39m\u001b[38;5;124mloss_f\u001b[39m\u001b[38;5;124m\"\u001b[39m, loss_f, epoch)\n\u001b[1;32m     38\u001b[0m     \u001b[38;5;28;01mreturn\u001b[39;00m loss\n\u001b[0;32m---> 40\u001b[0m \u001b[43moptimizer\u001b[49m\u001b[38;5;241;43m.\u001b[39;49m\u001b[43mstep\u001b[49m\u001b[43m(\u001b[49m\u001b[43mloss_closure\u001b[49m\u001b[43m)\u001b[49m\n",
      "File \u001b[0;32m/users/nfs/Enseignants/piwowarski/venv/deepdac/lib/python3.9/site-packages/torch/optim/optimizer.py:373\u001b[0m, in \u001b[0;36mOptimizer.profile_hook_step.<locals>.wrapper\u001b[0;34m(*args, **kwargs)\u001b[0m\n\u001b[1;32m    368\u001b[0m         \u001b[38;5;28;01melse\u001b[39;00m:\n\u001b[1;32m    369\u001b[0m             \u001b[38;5;28;01mraise\u001b[39;00m \u001b[38;5;167;01mRuntimeError\u001b[39;00m(\n\u001b[1;32m    370\u001b[0m                 \u001b[38;5;124mf\u001b[39m\u001b[38;5;124m\"\u001b[39m\u001b[38;5;132;01m{\u001b[39;00mfunc\u001b[38;5;132;01m}\u001b[39;00m\u001b[38;5;124m must return None or a tuple of (new_args, new_kwargs), but got \u001b[39m\u001b[38;5;132;01m{\u001b[39;00mresult\u001b[38;5;132;01m}\u001b[39;00m\u001b[38;5;124m.\u001b[39m\u001b[38;5;124m\"\u001b[39m\n\u001b[1;32m    371\u001b[0m             )\n\u001b[0;32m--> 373\u001b[0m out \u001b[38;5;241m=\u001b[39m \u001b[43mfunc\u001b[49m\u001b[43m(\u001b[49m\u001b[38;5;241;43m*\u001b[39;49m\u001b[43margs\u001b[49m\u001b[43m,\u001b[49m\u001b[43m \u001b[49m\u001b[38;5;241;43m*\u001b[39;49m\u001b[38;5;241;43m*\u001b[39;49m\u001b[43mkwargs\u001b[49m\u001b[43m)\u001b[49m\n\u001b[1;32m    374\u001b[0m \u001b[38;5;28mself\u001b[39m\u001b[38;5;241m.\u001b[39m_optimizer_step_code()\n\u001b[1;32m    376\u001b[0m \u001b[38;5;66;03m# call optimizer step post hooks\u001b[39;00m\n",
      "File \u001b[0;32m/users/nfs/Enseignants/piwowarski/venv/deepdac/lib/python3.9/site-packages/torch/utils/_contextlib.py:115\u001b[0m, in \u001b[0;36mcontext_decorator.<locals>.decorate_context\u001b[0;34m(*args, **kwargs)\u001b[0m\n\u001b[1;32m    112\u001b[0m \u001b[38;5;129m@functools\u001b[39m\u001b[38;5;241m.\u001b[39mwraps(func)\n\u001b[1;32m    113\u001b[0m \u001b[38;5;28;01mdef\u001b[39;00m \u001b[38;5;21mdecorate_context\u001b[39m(\u001b[38;5;241m*\u001b[39margs, \u001b[38;5;241m*\u001b[39m\u001b[38;5;241m*\u001b[39mkwargs):\n\u001b[1;32m    114\u001b[0m     \u001b[38;5;28;01mwith\u001b[39;00m ctx_factory():\n\u001b[0;32m--> 115\u001b[0m         \u001b[38;5;28;01mreturn\u001b[39;00m \u001b[43mfunc\u001b[49m\u001b[43m(\u001b[49m\u001b[38;5;241;43m*\u001b[39;49m\u001b[43margs\u001b[49m\u001b[43m,\u001b[49m\u001b[43m \u001b[49m\u001b[38;5;241;43m*\u001b[39;49m\u001b[38;5;241;43m*\u001b[39;49m\u001b[43mkwargs\u001b[49m\u001b[43m)\u001b[49m\n",
      "File \u001b[0;32m/users/nfs/Enseignants/piwowarski/venv/deepdac/lib/python3.9/site-packages/torch/optim/lbfgs.py:426\u001b[0m, in \u001b[0;36mLBFGS.step\u001b[0;34m(self, closure)\u001b[0m\n\u001b[1;32m    423\u001b[0m     \u001b[38;5;28;01mdef\u001b[39;00m \u001b[38;5;21mobj_func\u001b[39m(x, t, d):\n\u001b[1;32m    424\u001b[0m         \u001b[38;5;28;01mreturn\u001b[39;00m \u001b[38;5;28mself\u001b[39m\u001b[38;5;241m.\u001b[39m_directional_evaluate(closure, x, t, d)\n\u001b[0;32m--> 426\u001b[0m     loss, flat_grad, t, ls_func_evals \u001b[38;5;241m=\u001b[39m \u001b[43m_strong_wolfe\u001b[49m\u001b[43m(\u001b[49m\n\u001b[1;32m    427\u001b[0m \u001b[43m        \u001b[49m\u001b[43mobj_func\u001b[49m\u001b[43m,\u001b[49m\u001b[43m \u001b[49m\u001b[43mx_init\u001b[49m\u001b[43m,\u001b[49m\u001b[43m \u001b[49m\u001b[43mt\u001b[49m\u001b[43m,\u001b[49m\u001b[43m \u001b[49m\u001b[43md\u001b[49m\u001b[43m,\u001b[49m\u001b[43m \u001b[49m\u001b[43mloss\u001b[49m\u001b[43m,\u001b[49m\u001b[43m \u001b[49m\u001b[43mflat_grad\u001b[49m\u001b[43m,\u001b[49m\u001b[43m \u001b[49m\u001b[43mgtd\u001b[49m\u001b[43m)\u001b[49m\n\u001b[1;32m    428\u001b[0m \u001b[38;5;28mself\u001b[39m\u001b[38;5;241m.\u001b[39m_add_grad(t, d)\n\u001b[1;32m    429\u001b[0m opt_cond \u001b[38;5;241m=\u001b[39m flat_grad\u001b[38;5;241m.\u001b[39mabs()\u001b[38;5;241m.\u001b[39mmax() \u001b[38;5;241m<\u001b[39m\u001b[38;5;241m=\u001b[39m tolerance_grad\n",
      "File \u001b[0;32m/users/nfs/Enseignants/piwowarski/venv/deepdac/lib/python3.9/site-packages/torch/optim/lbfgs.py:50\u001b[0m, in \u001b[0;36m_strong_wolfe\u001b[0;34m(obj_func, x, t, d, f, g, gtd, c1, c2, tolerance_change, max_ls)\u001b[0m\n\u001b[1;32m     48\u001b[0m g \u001b[38;5;241m=\u001b[39m g\u001b[38;5;241m.\u001b[39mclone(memory_format\u001b[38;5;241m=\u001b[39mtorch\u001b[38;5;241m.\u001b[39mcontiguous_format)\n\u001b[1;32m     49\u001b[0m \u001b[38;5;66;03m# evaluate objective and gradient using initial step\u001b[39;00m\n\u001b[0;32m---> 50\u001b[0m f_new, g_new \u001b[38;5;241m=\u001b[39m \u001b[43mobj_func\u001b[49m\u001b[43m(\u001b[49m\u001b[43mx\u001b[49m\u001b[43m,\u001b[49m\u001b[43m \u001b[49m\u001b[43mt\u001b[49m\u001b[43m,\u001b[49m\u001b[43m \u001b[49m\u001b[43md\u001b[49m\u001b[43m)\u001b[49m\n\u001b[1;32m     51\u001b[0m ls_func_evals \u001b[38;5;241m=\u001b[39m \u001b[38;5;241m1\u001b[39m\n\u001b[1;32m     52\u001b[0m gtd_new \u001b[38;5;241m=\u001b[39m g_new\u001b[38;5;241m.\u001b[39mdot(d)\n",
      "File \u001b[0;32m/users/nfs/Enseignants/piwowarski/venv/deepdac/lib/python3.9/site-packages/torch/optim/lbfgs.py:424\u001b[0m, in \u001b[0;36mLBFGS.step.<locals>.obj_func\u001b[0;34m(x, t, d)\u001b[0m\n\u001b[1;32m    423\u001b[0m \u001b[38;5;28;01mdef\u001b[39;00m \u001b[38;5;21mobj_func\u001b[39m(x, t, d):\n\u001b[0;32m--> 424\u001b[0m     \u001b[38;5;28;01mreturn\u001b[39;00m \u001b[38;5;28;43mself\u001b[39;49m\u001b[38;5;241;43m.\u001b[39;49m\u001b[43m_directional_evaluate\u001b[49m\u001b[43m(\u001b[49m\u001b[43mclosure\u001b[49m\u001b[43m,\u001b[49m\u001b[43m \u001b[49m\u001b[43mx\u001b[49m\u001b[43m,\u001b[49m\u001b[43m \u001b[49m\u001b[43mt\u001b[49m\u001b[43m,\u001b[49m\u001b[43m \u001b[49m\u001b[43md\u001b[49m\u001b[43m)\u001b[49m\n",
      "File \u001b[0;32m/users/nfs/Enseignants/piwowarski/venv/deepdac/lib/python3.9/site-packages/torch/optim/lbfgs.py:278\u001b[0m, in \u001b[0;36mLBFGS._directional_evaluate\u001b[0;34m(self, closure, x, t, d)\u001b[0m\n\u001b[1;32m    276\u001b[0m \u001b[38;5;28;01mdef\u001b[39;00m \u001b[38;5;21m_directional_evaluate\u001b[39m(\u001b[38;5;28mself\u001b[39m, closure, x, t, d):\n\u001b[1;32m    277\u001b[0m     \u001b[38;5;28mself\u001b[39m\u001b[38;5;241m.\u001b[39m_add_grad(t, d)\n\u001b[0;32m--> 278\u001b[0m     loss \u001b[38;5;241m=\u001b[39m \u001b[38;5;28mfloat\u001b[39m(\u001b[43mclosure\u001b[49m\u001b[43m(\u001b[49m\u001b[43m)\u001b[49m)\n\u001b[1;32m    279\u001b[0m     flat_grad \u001b[38;5;241m=\u001b[39m \u001b[38;5;28mself\u001b[39m\u001b[38;5;241m.\u001b[39m_gather_flat_grad()\n\u001b[1;32m    280\u001b[0m     \u001b[38;5;28mself\u001b[39m\u001b[38;5;241m.\u001b[39m_set_param(x)\n",
      "File \u001b[0;32m/users/nfs/Enseignants/piwowarski/venv/deepdac/lib/python3.9/site-packages/torch/utils/_contextlib.py:115\u001b[0m, in \u001b[0;36mcontext_decorator.<locals>.decorate_context\u001b[0;34m(*args, **kwargs)\u001b[0m\n\u001b[1;32m    112\u001b[0m \u001b[38;5;129m@functools\u001b[39m\u001b[38;5;241m.\u001b[39mwraps(func)\n\u001b[1;32m    113\u001b[0m \u001b[38;5;28;01mdef\u001b[39;00m \u001b[38;5;21mdecorate_context\u001b[39m(\u001b[38;5;241m*\u001b[39margs, \u001b[38;5;241m*\u001b[39m\u001b[38;5;241m*\u001b[39mkwargs):\n\u001b[1;32m    114\u001b[0m     \u001b[38;5;28;01mwith\u001b[39;00m ctx_factory():\n\u001b[0;32m--> 115\u001b[0m         \u001b[38;5;28;01mreturn\u001b[39;00m \u001b[43mfunc\u001b[49m\u001b[43m(\u001b[49m\u001b[38;5;241;43m*\u001b[39;49m\u001b[43margs\u001b[49m\u001b[43m,\u001b[49m\u001b[43m \u001b[49m\u001b[38;5;241;43m*\u001b[39;49m\u001b[38;5;241;43m*\u001b[39;49m\u001b[43mkwargs\u001b[49m\u001b[43m)\u001b[49m\n",
      "Cell \u001b[0;32mIn [98], line 29\u001b[0m, in \u001b[0;36mloss_closure\u001b[0;34m()\u001b[0m\n\u001b[1;32m     25\u001b[0m optimizer\u001b[38;5;241m.\u001b[39mzero_grad()\n\u001b[1;32m     26\u001b[0m loss, loss_ic, loss_bc, loss_f \u001b[38;5;241m=\u001b[39m pinns_loss(\n\u001b[1;32m     27\u001b[0m     pinn, xt_ic, xt_lb, xt_ub, xt_f, uv_ic\n\u001b[1;32m     28\u001b[0m )\n\u001b[0;32m---> 29\u001b[0m \u001b[43mloss\u001b[49m\u001b[38;5;241;43m.\u001b[39;49m\u001b[43mbackward\u001b[49m\u001b[43m(\u001b[49m\u001b[43m)\u001b[49m\n\u001b[1;32m     31\u001b[0m pbar\u001b[38;5;241m.\u001b[39mset_description(\u001b[38;5;124mf\u001b[39m\u001b[38;5;124m\"\u001b[39m\u001b[38;5;124mloss: \u001b[39m\u001b[38;5;132;01m{\u001b[39;00mloss\u001b[38;5;241m.\u001b[39mitem()\u001b[38;5;132;01m}\u001b[39;00m\u001b[38;5;124m\"\u001b[39m)\n\u001b[1;32m     33\u001b[0m writer\u001b[38;5;241m.\u001b[39madd_scalar(\u001b[38;5;124m\"\u001b[39m\u001b[38;5;124mloss\u001b[39m\u001b[38;5;124m\"\u001b[39m, loss, epoch)\n",
      "File \u001b[0;32m/users/nfs/Enseignants/piwowarski/venv/deepdac/lib/python3.9/site-packages/torch/_tensor.py:492\u001b[0m, in \u001b[0;36mTensor.backward\u001b[0;34m(self, gradient, retain_graph, create_graph, inputs)\u001b[0m\n\u001b[1;32m    482\u001b[0m \u001b[38;5;28;01mif\u001b[39;00m has_torch_function_unary(\u001b[38;5;28mself\u001b[39m):\n\u001b[1;32m    483\u001b[0m     \u001b[38;5;28;01mreturn\u001b[39;00m handle_torch_function(\n\u001b[1;32m    484\u001b[0m         Tensor\u001b[38;5;241m.\u001b[39mbackward,\n\u001b[1;32m    485\u001b[0m         (\u001b[38;5;28mself\u001b[39m,),\n\u001b[0;32m   (...)\u001b[0m\n\u001b[1;32m    490\u001b[0m         inputs\u001b[38;5;241m=\u001b[39minputs,\n\u001b[1;32m    491\u001b[0m     )\n\u001b[0;32m--> 492\u001b[0m \u001b[43mtorch\u001b[49m\u001b[38;5;241;43m.\u001b[39;49m\u001b[43mautograd\u001b[49m\u001b[38;5;241;43m.\u001b[39;49m\u001b[43mbackward\u001b[49m\u001b[43m(\u001b[49m\n\u001b[1;32m    493\u001b[0m \u001b[43m    \u001b[49m\u001b[38;5;28;43mself\u001b[39;49m\u001b[43m,\u001b[49m\u001b[43m \u001b[49m\u001b[43mgradient\u001b[49m\u001b[43m,\u001b[49m\u001b[43m \u001b[49m\u001b[43mretain_graph\u001b[49m\u001b[43m,\u001b[49m\u001b[43m \u001b[49m\u001b[43mcreate_graph\u001b[49m\u001b[43m,\u001b[49m\u001b[43m \u001b[49m\u001b[43minputs\u001b[49m\u001b[38;5;241;43m=\u001b[39;49m\u001b[43minputs\u001b[49m\n\u001b[1;32m    494\u001b[0m \u001b[43m\u001b[49m\u001b[43m)\u001b[49m\n",
      "File \u001b[0;32m/users/nfs/Enseignants/piwowarski/venv/deepdac/lib/python3.9/site-packages/torch/autograd/__init__.py:251\u001b[0m, in \u001b[0;36mbackward\u001b[0;34m(tensors, grad_tensors, retain_graph, create_graph, grad_variables, inputs)\u001b[0m\n\u001b[1;32m    246\u001b[0m     retain_graph \u001b[38;5;241m=\u001b[39m create_graph\n\u001b[1;32m    248\u001b[0m \u001b[38;5;66;03m# The reason we repeat the same comment below is that\u001b[39;00m\n\u001b[1;32m    249\u001b[0m \u001b[38;5;66;03m# some Python versions print out the first line of a multi-line function\u001b[39;00m\n\u001b[1;32m    250\u001b[0m \u001b[38;5;66;03m# calls in the traceback and some print out the last line\u001b[39;00m\n\u001b[0;32m--> 251\u001b[0m \u001b[43mVariable\u001b[49m\u001b[38;5;241;43m.\u001b[39;49m\u001b[43m_execution_engine\u001b[49m\u001b[38;5;241;43m.\u001b[39;49m\u001b[43mrun_backward\u001b[49m\u001b[43m(\u001b[49m\u001b[43m  \u001b[49m\u001b[38;5;66;43;03m# Calls into the C++ engine to run the backward pass\u001b[39;49;00m\n\u001b[1;32m    252\u001b[0m \u001b[43m    \u001b[49m\u001b[43mtensors\u001b[49m\u001b[43m,\u001b[49m\n\u001b[1;32m    253\u001b[0m \u001b[43m    \u001b[49m\u001b[43mgrad_tensors_\u001b[49m\u001b[43m,\u001b[49m\n\u001b[1;32m    254\u001b[0m \u001b[43m    \u001b[49m\u001b[43mretain_graph\u001b[49m\u001b[43m,\u001b[49m\n\u001b[1;32m    255\u001b[0m \u001b[43m    \u001b[49m\u001b[43mcreate_graph\u001b[49m\u001b[43m,\u001b[49m\n\u001b[1;32m    256\u001b[0m \u001b[43m    \u001b[49m\u001b[43minputs\u001b[49m\u001b[43m,\u001b[49m\n\u001b[1;32m    257\u001b[0m \u001b[43m    \u001b[49m\u001b[43mallow_unreachable\u001b[49m\u001b[38;5;241;43m=\u001b[39;49m\u001b[38;5;28;43;01mTrue\u001b[39;49;00m\u001b[43m,\u001b[49m\n\u001b[1;32m    258\u001b[0m \u001b[43m    \u001b[49m\u001b[43maccumulate_grad\u001b[49m\u001b[38;5;241;43m=\u001b[39;49m\u001b[38;5;28;43;01mTrue\u001b[39;49;00m\u001b[43m,\u001b[49m\n\u001b[1;32m    259\u001b[0m \u001b[43m\u001b[49m\u001b[43m)\u001b[49m\n",
      "\u001b[0;31mKeyboardInterrupt\u001b[0m: "
     ]
    }
   ],
   "source": [
    "from tqdm import tqdm\n",
    "from torch.utils.tensorboard import SummaryWriter\n",
    "\n",
    "writer = SummaryWriter()\n",
    "\n",
    "dnn = DNN(input_size=2, hidden_size=50, output_size=2)\n",
    "pinn = PINN_Schrodinger(dnn).to(device)\n",
    "optimizer = torch.optim.LBFGS(\n",
    "    pinn.parameters(),\n",
    "    lr=1.0,\n",
    "    max_iter=300,\n",
    "    max_eval=500,\n",
    "    history_size=50,\n",
    "    tolerance_grad=1e-5,\n",
    "    tolerance_change=1.0 * np.finfo(float).eps,\n",
    "    line_search_fn=\"strong_wolfe\",\n",
    ")\n",
    "\n",
    "# Training\n",
    "pbar = tqdm(range(70))\n",
    "\n",
    "for epoch in pbar:\n",
    "\n",
    "    def loss_closure():\n",
    "        optimizer.zero_grad()\n",
    "        loss, loss_ic, loss_bc, loss_f = pinns_loss(\n",
    "            pinn, xt_ic, xt_lb, xt_ub, xt_f, uv_ic\n",
    "        )\n",
    "        loss.backward()\n",
    "\n",
    "        pbar.set_description(f\"loss: {loss.item()}\")\n",
    "\n",
    "        writer.add_scalar(\"loss\", loss, epoch)\n",
    "        writer.add_scalar(\"loss_ic\", loss_ic, epoch)\n",
    "        writer.add_scalar(\"loss_bc\", loss_bc, epoch)\n",
    "        writer.add_scalar(\"loss_f\", loss_f, epoch)\n",
    "\n",
    "        return loss\n",
    "\n",
    "    optimizer.step(loss_closure)"
   ]
  },
  {
   "cell_type": "code",
   "execution_count": null,
   "metadata": {},
   "outputs": [],
   "source": []
  },
  {
   "cell_type": "code",
   "execution_count": null,
   "metadata": {},
   "outputs": [],
   "source": []
  }
 ],
 "metadata": {
  "kernelspec": {
   "display_name": "deepdac",
   "language": "python",
   "name": "python3"
  },
  "language_info": {
   "codemirror_mode": {
    "name": "ipython",
    "version": 3
   },
   "file_extension": ".py",
   "mimetype": "text/x-python",
   "name": "python",
   "nbconvert_exporter": "python",
   "pygments_lexer": "ipython3",
   "version": "3.9.6"
  }
 },
 "nbformat": 4,
 "nbformat_minor": 2
}
